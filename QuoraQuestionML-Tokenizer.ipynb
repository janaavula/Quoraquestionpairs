{
 "cells": [
  {
   "cell_type": "markdown",
   "metadata": {},
   "source": [
    "# Quora Question Pairs Competition Notebook\n",
    "\n",
    "### To Improve User (question seeker, answer writer) Satisfaction by buidling a model to improve model performance of low log loss."
   ]
  },
  {
   "cell_type": "code",
   "execution_count": 400,
   "metadata": {
    "collapsed": false
   },
   "outputs": [
    {
     "name": "stdout",
     "output_type": "stream",
     "text": [
      "Importing modules and Loading word2vec pretrained embedding vector\n",
      "keras version is 2.1.2\n",
      "tf version is 1.4.1\n"
     ]
    }
   ],
   "source": [
    "# Import necessary libraries\n",
    "import pandas as pd\n",
    "import nltk\n",
    "import re\n",
    "import utilities as u\n",
    "import numpy as np\n",
    "import sklearn\n",
    "import pickle\n",
    "import collections\n",
    "import keras\n",
    "import tensorflow as tf\n",
    "import time\n",
    "import matplotlib.pyplot as plt\n",
    "from sklearn import preprocessing\n",
    "from sklearn.model_selection import train_test_split\n",
    "from sklearn.linear_model import LogisticRegression\n",
    "from sklearn.metrics import log_loss\n",
    "from sklearn.metrics import confusion_matrix\n",
    "from keras.layers import Input, LSTM, Dense\n",
    "from keras.models import Model\n",
    "from keras.layers import Input, Embedding, LSTM\n",
    "from keras.preprocessing.text import Tokenizer\n",
    "from keras.models import load_model\n",
    "from tensorflow.python.keras import utils\n",
    "from gensim.models import KeyedVectors\n",
    "\n",
    "\n",
    "#Check Keras and tensorflow version\n",
    "print (\"Importing modules and Loading word2vec pretrained embedding vector\")\n",
    "print(\"keras version is {}\".format(keras.__version__))\n",
    "print(\"tf version is {}\".format(tf.__version__))\n"
   ]
  },
  {
   "cell_type": "code",
   "execution_count": 5,
   "metadata": {
    "collapsed": false
   },
   "outputs": [
    {
     "name": "stderr",
     "output_type": "stream",
     "text": [
      "/Users/jac812i/virtualenvs/quoravenv/lib/python3.6/site-packages/gensim/matutils.py:737: FutureWarning: Conversion of the second argument of issubdtype from `int` to `np.signedinteger` is deprecated. In future, it will be treated as `np.int64 == np.dtype(int).type`.\n",
      "  if np.issubdtype(vec.dtype, np.int):\n"
     ]
    },
    {
     "name": "stdout",
     "output_type": "stream",
     "text": [
      "[('queen', 0.7118192911148071)]\n"
     ]
    }
   ],
   "source": [
    "# Load pretrained embedding vector trained on Google News\n",
    "EMBEDDING_FILE = '../GoogleNews-vectors-negative300.bin.gz'\n",
    "model = KeyedVectors.load_word2vec_format(EMBEDDING_FILE, binary=True)\n",
    "\n",
    "# To check if word2vec embedding model is loaded succesfully\n",
    "result = model.most_similar(positive=['woman', 'king'], negative=['man'], topn=1)\n",
    "print(result)"
   ]
  },
  {
   "cell_type": "code",
   "execution_count": 11,
   "metadata": {
    "collapsed": false
   },
   "outputs": [
    {
     "name": "stderr",
     "output_type": "stream",
     "text": [
      "/Users/jac812i/virtualenvs/quoravenv/lib/python3.6/site-packages/IPython/core/interactiveshell.py:2785: DtypeWarning: Columns (0) have mixed types. Specify dtype option on import or set low_memory=False.\n",
      "  interactivity=interactivity, compiler=compiler, result=result)\n"
     ]
    }
   ],
   "source": [
    "# Read training and test data from .csv files\n",
    "train_df = pd.read_csv(\"../train.csv\")\n",
    "test_df = pd.read_csv(\"../test.csv\")"
   ]
  },
  {
   "cell_type": "code",
   "execution_count": 84,
   "metadata": {
    "collapsed": false
   },
   "outputs": [],
   "source": [
    "# Display top 3 rows of train data\n",
    "train_df.head(3)\n",
    "# assert the shape of train dataframe\n",
    "assert train_df.shape[0] > 0\n",
    "assert train_df.shape[1] > 0"
   ]
  },
  {
   "cell_type": "code",
   "execution_count": 85,
   "metadata": {
    "collapsed": true
   },
   "outputs": [],
   "source": [
    "# Display top 3 rows of test data and assert test data shape\n",
    "test_df.head(3)\n",
    "assert test_df.shape[0] > 0\n",
    "assert test_df.shape[1] > 0"
   ]
  },
  {
   "cell_type": "markdown",
   "metadata": {},
   "source": [
    "# Identify Feature and Target columns"
   ]
  },
  {
   "cell_type": "code",
   "execution_count": 14,
   "metadata": {
    "collapsed": false
   },
   "outputs": [
    {
     "name": "stdout",
     "output_type": "stream",
     "text": [
      "Feature Columns ['id', 'qid1', 'qid2', 'question1', 'question2']\n",
      "Target Columns is_duplicate\n"
     ]
    }
   ],
   "source": [
    "# Extract feature (X) and target (y) columns\n",
    "feature_cols = list(train_df.columns[:-1])\n",
    "target_col = train_df.columns[-1]\n",
    "print (\"Feature Columns {}\".format(feature_cols))\n",
    "print (\"Target Columns {}\".format(target_col))\n",
    "X_all = train_df[feature_cols]\n",
    "y_all = pd.DataFrame(data=train_df[target_col], columns=[target_col])"
   ]
  },
  {
   "cell_type": "code",
   "execution_count": 15,
   "metadata": {
    "collapsed": false
   },
   "outputs": [
    {
     "data": {
      "text/plain": [
       "Counter({0: 255027, 1: 149263})"
      ]
     },
     "execution_count": 15,
     "metadata": {},
     "output_type": "execute_result"
    }
   ],
   "source": [
    "# To check if the data is balanced or not\n",
    "collections.Counter(y_all['is_duplicate'])"
   ]
  },
  {
   "cell_type": "code",
   "execution_count": 433,
   "metadata": {
    "collapsed": false
   },
   "outputs": [
    {
     "name": "stdout",
     "output_type": "stream",
     "text": [
      "Number of Non Duplicate question pairs in training data set = 255027\n",
      "Number of Duplicate question pairs in training data set = 149263\n"
     ]
    }
   ],
   "source": [
    "# To check if the data is balanced or not\n",
    "non_duplicates = collections.Counter(y_all['is_duplicate'])[0]\n",
    "duplicates = collections.Counter(y_all['is_duplicate'])[1]\n",
    "\n",
    "print (\"Number of Non Duplicate question pairs in training data set = {}\".format(non_duplicates))\n",
    "print (\"Number of Duplicate question pairs in training data set = {}\".format(duplicates))"
   ]
  },
  {
   "cell_type": "code",
   "execution_count": 461,
   "metadata": {
    "collapsed": true
   },
   "outputs": [],
   "source": [
    "# Function to plot bar graph\n",
    "def plot (data, title):\n",
    "\n",
    "    names = list(data.keys())\n",
    "    values = list(data.values())\n",
    "    \n",
    "\n",
    "    plt.bar(names, values, align='center', alpha=0.5)\n",
    "    plt.xticks(names)\n",
    "    plt.ylabel(values)\n",
    "    plt.title(title)\n",
    "\n",
    "    plt.show()"
   ]
  },
  {
   "cell_type": "code",
   "execution_count": 462,
   "metadata": {
    "collapsed": false
   },
   "outputs": [
    {
     "data": {
      "image/png": "[encoded data removed]",
      "text/plain": [
       "<Figure size 432x288 with 1 Axes>"
      ]
     },
     "metadata": {},
     "output_type": "display_data"
    }
   ],
   "source": [
    "#Plotting the non duplicates vs duplicates count graph\n",
    "data = {'non_duplicates': collections.Counter(y_all['is_duplicate'])[0], 'duplicates': collections.Counter(y_all['is_duplicate'])[1]}\n",
    "plot(data,'Total Non Duplicates and Duplicates count in Training data set')\n"
   ]
  },
  {
   "cell_type": "code",
   "execution_count": 446,
   "metadata": {
    "collapsed": false
   },
   "outputs": [
    {
     "name": "stdout",
     "output_type": "stream",
     "text": [
      "Percentage of Non Duplicate question pairs in training data set = 63.08021469737069\n",
      "Percentage of Duplicate question pairs in training data set = 36.9197853026293\n"
     ]
    }
   ],
   "source": [
    "percent_non_duplicates = non_duplicates/(non_duplicates+duplicates)*100\n",
    "percent_duplicates = duplicates/(non_duplicates+duplicates)*100\n",
    "\n",
    "print (\"Percentage of Non Duplicate question pairs in training data set = {}\".format(percent_non_duplicates))\n",
    "print (\"Percentage of Duplicate question pairs in training data set = {}\".format(percent_duplicates))"
   ]
  },
  {
   "cell_type": "code",
   "execution_count": 463,
   "metadata": {
    "collapsed": false
   },
   "outputs": [
    {
     "data": {
      "image/png": "[encoded data removed]",
      "text/plain": [
       "<Figure size 432x288 with 1 Axes>"
      ]
     },
     "metadata": {},
     "output_type": "display_data"
    }
   ],
   "source": [
    "#Plotting the non duplicates vs duplicates percentage graph\n",
    "data = {'non_duplicates': percent_non_duplicates, 'duplicates': percent_duplicates}\n",
    "plot(data,'Total Non Duplicates and Duplicates percentage in Training data set')"
   ]
  },
  {
   "cell_type": "code",
   "execution_count": 16,
   "metadata": {
    "collapsed": false
   },
   "outputs": [
    {
     "data": {
      "text/html": [
       "<div>\n",
       "<style scoped>\n",
       "    .dataframe tbody tr th:only-of-type {\n",
       "        vertical-align: middle;\n",
       "    }\n",
       "\n",
       "    .dataframe tbody tr th {\n",
       "        vertical-align: top;\n",
       "    }\n",
       "\n",
       "    .dataframe thead th {\n",
       "        text-align: right;\n",
       "    }\n",
       "</style>\n",
       "<table border=\"1\" class=\"dataframe\">\n",
       "  <thead>\n",
       "    <tr style=\"text-align: right;\">\n",
       "      <th></th>\n",
       "      <th>is_duplicate</th>\n",
       "    </tr>\n",
       "  </thead>\n",
       "  <tbody>\n",
       "    <tr>\n",
       "      <th>0</th>\n",
       "      <td>0</td>\n",
       "    </tr>\n",
       "    <tr>\n",
       "      <th>1</th>\n",
       "      <td>0</td>\n",
       "    </tr>\n",
       "    <tr>\n",
       "      <th>2</th>\n",
       "      <td>0</td>\n",
       "    </tr>\n",
       "    <tr>\n",
       "      <th>3</th>\n",
       "      <td>0</td>\n",
       "    </tr>\n",
       "    <tr>\n",
       "      <th>4</th>\n",
       "      <td>0</td>\n",
       "    </tr>\n",
       "  </tbody>\n",
       "</table>\n",
       "</div>"
      ],
      "text/plain": [
       "   is_duplicate\n",
       "0             0\n",
       "1             0\n",
       "2             0\n",
       "3             0\n",
       "4             0"
      ]
     },
     "execution_count": 16,
     "metadata": {},
     "output_type": "execute_result"
    }
   ],
   "source": [
    "# Check the 5 rows of train output\n",
    "y_all.head(5)"
   ]
  },
  {
   "cell_type": "code",
   "execution_count": 22,
   "metadata": {
    "collapsed": false
   },
   "outputs": [],
   "source": [
    "# Check the 3 rows of the new dataframe\n",
    "X_all.head(3)\n",
    "# Assert the shapes are equal after removing the feature\n",
    "assert X_all.shape == (train_df.shape[0],train_df.shape[1]-1)"
   ]
  },
  {
   "cell_type": "markdown",
   "metadata": {},
   "source": [
    "# Split data in training and validation sets"
   ]
  },
  {
   "cell_type": "code",
   "execution_count": 61,
   "metadata": {
    "collapsed": false
   },
   "outputs": [
    {
     "name": "stdout",
     "output_type": "stream",
     "text": [
      "Total data set: 404290 samples\n",
      "Training set: 283003 samples\n",
      "Valid set: 121287 samples\n"
     ]
    }
   ],
   "source": [
    "# Split data into 70% training and 30% validation and have a constant random state so that the results are consistent\n",
    "X_train, X_valid, y_train, y_valid = train_test_split(X_all, y_all, test_size=0.30, random_state=42)\n",
    "print (\"Total data set: {} samples\".format(X_all.shape[0]))\n",
    "print (\"Training set: {} samples\".format(X_train.shape[0]))\n",
    "print (\"Valid set: {} samples\".format(X_valid.shape[0]))"
   ]
  },
  {
   "cell_type": "code",
   "execution_count": 62,
   "metadata": {
    "collapsed": true
   },
   "outputs": [],
   "source": [
    "# asserting the shapes after splitting the data\n",
    "assert (X_train.shape[0] + X_valid.shape[0]) == X_all.shape[0]\n",
    "assert (y_train.shape[0] + y_valid.shape[0]) == y_all.shape[0]"
   ]
  },
  {
   "cell_type": "markdown",
   "metadata": {},
   "source": [
    "# Check whether data is balanced or not"
   ]
  },
  {
   "cell_type": "code",
   "execution_count": 469,
   "metadata": {
    "collapsed": false
   },
   "outputs": [
    {
     "data": {
      "text/plain": [
       "Counter({0: 178677, 1: 104326})"
      ]
     },
     "execution_count": 469,
     "metadata": {},
     "output_type": "execute_result"
    }
   ],
   "source": [
    "# TO check how many question pairs in training set are duplicate or not\n",
    "collections.Counter(y_train['is_duplicate'])"
   ]
  },
  {
   "cell_type": "code",
   "execution_count": 470,
   "metadata": {
    "collapsed": false
   },
   "outputs": [
    {
     "name": "stdout",
     "output_type": "stream",
     "text": [
      "Number of Non Duplicate question pairs in training data set after splitting into validation data = 178677\n",
      "Number of Duplicate question pairs in training data set after splitting into validation data = 104326\n"
     ]
    }
   ],
   "source": [
    "# To check if the data is balanced or not\n",
    "non_duplicates = collections.Counter(y_train['is_duplicate'])[0]\n",
    "duplicates = collections.Counter(y_train['is_duplicate'])[1]\n",
    "\n",
    "print (\"Number of Non Duplicate question pairs in training data set after splitting into validation data = {}\".format(non_duplicates))\n",
    "print (\"Number of Duplicate question pairs in training data set after splitting into validation data = {}\".format(duplicates))"
   ]
  },
  {
   "cell_type": "code",
   "execution_count": 471,
   "metadata": {
    "collapsed": false
   },
   "outputs": [
    {
     "name": "stdout",
     "output_type": "stream",
     "text": [
      "Percentage of Non Duplicate question pairs in training data set after splitting into validation data = 63.136079829542446\n",
      "Percentage of Duplicate question pairs in training data set after splitting into validation data = 36.86392017045756\n"
     ]
    }
   ],
   "source": [
    "percent_non_duplicates = non_duplicates/(non_duplicates+duplicates)*100\n",
    "percent_duplicates = duplicates/(non_duplicates+duplicates)*100\n",
    "\n",
    "print (\"Percentage of Non Duplicate question pairs in training data set after splitting into validation data = {}\".format(percent_non_duplicates))\n",
    "print (\"Percentage of Duplicate question pairs in training data set after splitting into validation data = {}\".format(percent_duplicates))"
   ]
  },
  {
   "cell_type": "code",
   "execution_count": 472,
   "metadata": {
    "collapsed": false
   },
   "outputs": [
    {
     "data": {
      "image/png": "[encoded data removed]",
      "text/plain": [
       "<Figure size 432x288 with 1 Axes>"
      ]
     },
     "metadata": {},
     "output_type": "display_data"
    }
   ],
   "source": [
    "#Plotting the non duplicates vs duplicates percentage graph\n",
    "data = {'non_duplicates': percent_non_duplicates, 'duplicates': percent_duplicates}\n",
    "plot(data,'Total Non Duplicates and Duplicates percentage in Training data set after splitting into validation data')"
   ]
  },
  {
   "cell_type": "code",
   "execution_count": 473,
   "metadata": {
    "collapsed": false
   },
   "outputs": [
    {
     "data": {
      "text/plain": [
       "Counter({0: 76350, 1: 44937})"
      ]
     },
     "execution_count": 473,
     "metadata": {},
     "output_type": "execute_result"
    }
   ],
   "source": [
    "# TO check how many question pairs in validation set are duplicate or not\n",
    "collections.Counter(y_valid['is_duplicate'])"
   ]
  },
  {
   "cell_type": "code",
   "execution_count": 474,
   "metadata": {
    "collapsed": false
   },
   "outputs": [
    {
     "name": "stdout",
     "output_type": "stream",
     "text": [
      "Number of Non Duplicate question pairs in validation data = 76350\n",
      "Number of Duplicate question pairs in validation data = 44937\n"
     ]
    }
   ],
   "source": [
    "# To check if the data is balanced or not\n",
    "non_duplicates = collections.Counter(y_valid['is_duplicate'])[0]\n",
    "duplicates = collections.Counter(y_valid['is_duplicate'])[1]\n",
    "\n",
    "print (\"Number of Non Duplicate question pairs in validation data = {}\".format(non_duplicates))\n",
    "print (\"Number of Duplicate question pairs in validation data = {}\".format(duplicates))"
   ]
  },
  {
   "cell_type": "code",
   "execution_count": 475,
   "metadata": {
    "collapsed": false
   },
   "outputs": [
    {
     "name": "stdout",
     "output_type": "stream",
     "text": [
      "Percentage of Non Duplicate question pairs in validation data = 62.949862722303294\n",
      "Percentage of Duplicate question pairs in validation data = 37.050137277696706\n"
     ]
    }
   ],
   "source": [
    "percent_non_duplicates = non_duplicates/(non_duplicates+duplicates)*100\n",
    "percent_duplicates = duplicates/(non_duplicates+duplicates)*100\n",
    "\n",
    "print (\"Percentage of Non Duplicate question pairs in validation data = {}\".format(percent_non_duplicates))\n",
    "print (\"Percentage of Duplicate question pairs in validation data = {}\".format(percent_duplicates))"
   ]
  },
  {
   "cell_type": "code",
   "execution_count": 476,
   "metadata": {
    "collapsed": false
   },
   "outputs": [
    {
     "data": {
      "image/png": "[encoded data removed]",
      "text/plain": [
       "<Figure size 432x288 with 1 Axes>"
      ]
     },
     "metadata": {},
     "output_type": "display_data"
    }
   ],
   "source": [
    "#Plotting the non duplicates vs duplicates percentage graph\n",
    "data = {'non_duplicates': percent_non_duplicates, 'duplicates': percent_duplicates}\n",
    "plot(data,'Total Non Duplicates and Duplicates percentage in validation data')"
   ]
  },
  {
   "cell_type": "code",
   "execution_count": 65,
   "metadata": {
    "collapsed": false
   },
   "outputs": [
    {
     "data": {
      "text/html": [
       "<div>\n",
       "<style scoped>\n",
       "    .dataframe tbody tr th:only-of-type {\n",
       "        vertical-align: middle;\n",
       "    }\n",
       "\n",
       "    .dataframe tbody tr th {\n",
       "        vertical-align: top;\n",
       "    }\n",
       "\n",
       "    .dataframe thead th {\n",
       "        text-align: right;\n",
       "    }\n",
       "</style>\n",
       "<table border=\"1\" class=\"dataframe\">\n",
       "  <thead>\n",
       "    <tr style=\"text-align: right;\">\n",
       "      <th></th>\n",
       "      <th>id</th>\n",
       "      <th>qid1</th>\n",
       "      <th>qid2</th>\n",
       "      <th>question1</th>\n",
       "      <th>question2</th>\n",
       "    </tr>\n",
       "  </thead>\n",
       "  <tbody>\n",
       "    <tr>\n",
       "      <th>8067</th>\n",
       "      <td>8067</td>\n",
       "      <td>15738</td>\n",
       "      <td>15739</td>\n",
       "      <td>How do I play Pokémon GO in Korea?</td>\n",
       "      <td>How do I play Pokémon GO in China?</td>\n",
       "    </tr>\n",
       "    <tr>\n",
       "      <th>368101</th>\n",
       "      <td>368101</td>\n",
       "      <td>12736</td>\n",
       "      <td>104117</td>\n",
       "      <td>What are some of the best side dishes for crab...</td>\n",
       "      <td>What are some good side dishes for buffalo chi...</td>\n",
       "    </tr>\n",
       "    <tr>\n",
       "      <th>70497</th>\n",
       "      <td>70497</td>\n",
       "      <td>121486</td>\n",
       "      <td>121487</td>\n",
       "      <td>Which is more advisable and better material fo...</td>\n",
       "      <td>What is the best server setup for buddypress?</td>\n",
       "    </tr>\n",
       "  </tbody>\n",
       "</table>\n",
       "</div>"
      ],
      "text/plain": [
       "            id    qid1    qid2  \\\n",
       "8067      8067   15738   15739   \n",
       "368101  368101   12736  104117   \n",
       "70497    70497  121486  121487   \n",
       "\n",
       "                                                question1  \\\n",
       "8067                   How do I play Pokémon GO in Korea?   \n",
       "368101  What are some of the best side dishes for crab...   \n",
       "70497   Which is more advisable and better material fo...   \n",
       "\n",
       "                                                question2  \n",
       "8067                   How do I play Pokémon GO in China?  \n",
       "368101  What are some good side dishes for buffalo chi...  \n",
       "70497       What is the best server setup for buddypress?  "
      ]
     },
     "execution_count": 65,
     "metadata": {},
     "output_type": "execute_result"
    }
   ],
   "source": [
    "\n",
    "#Check few rows of X_valid\n",
    "X_valid.head(3)"
   ]
  },
  {
   "cell_type": "code",
   "execution_count": 66,
   "metadata": {
    "collapsed": false
   },
   "outputs": [
    {
     "data": {
      "text/html": [
       "<div>\n",
       "<style scoped>\n",
       "    .dataframe tbody tr th:only-of-type {\n",
       "        vertical-align: middle;\n",
       "    }\n",
       "\n",
       "    .dataframe tbody tr th {\n",
       "        vertical-align: top;\n",
       "    }\n",
       "\n",
       "    .dataframe thead th {\n",
       "        text-align: right;\n",
       "    }\n",
       "</style>\n",
       "<table border=\"1\" class=\"dataframe\">\n",
       "  <thead>\n",
       "    <tr style=\"text-align: right;\">\n",
       "      <th></th>\n",
       "      <th>is_duplicate</th>\n",
       "    </tr>\n",
       "  </thead>\n",
       "  <tbody>\n",
       "    <tr>\n",
       "      <th>8067</th>\n",
       "      <td>0</td>\n",
       "    </tr>\n",
       "    <tr>\n",
       "      <th>368101</th>\n",
       "      <td>0</td>\n",
       "    </tr>\n",
       "    <tr>\n",
       "      <th>70497</th>\n",
       "      <td>0</td>\n",
       "    </tr>\n",
       "  </tbody>\n",
       "</table>\n",
       "</div>"
      ],
      "text/plain": [
       "        is_duplicate\n",
       "8067               0\n",
       "368101             0\n",
       "70497              0"
      ]
     },
     "execution_count": 66,
     "metadata": {},
     "output_type": "execute_result"
    }
   ],
   "source": [
    "#Check few rows of y_valid\n",
    "y_valid.head(3)"
   ]
  },
  {
   "cell_type": "code",
   "execution_count": 67,
   "metadata": {
    "collapsed": true
   },
   "outputs": [],
   "source": [
    "# Reset index to start from 0\n",
    "X_train.reset_index(drop = True, inplace = True)\n",
    "X_valid.reset_index(drop = True, inplace = True)\n",
    "y_train.reset_index(drop = True, inplace = True)\n",
    "y_valid.reset_index(drop = True, inplace = True)\n",
    "\n",
    "#asserting shapes after resetting index\n",
    "assert (X_train.shape[0] + X_valid.shape[0]) == X_all.shape[0]\n",
    "assert (y_train.shape[0] + y_valid.shape[0]) == y_all.shape[0]"
   ]
  },
  {
   "cell_type": "code",
   "execution_count": 68,
   "metadata": {
    "collapsed": false
   },
   "outputs": [
    {
     "data": {
      "text/html": [
       "<div>\n",
       "<style scoped>\n",
       "    .dataframe tbody tr th:only-of-type {\n",
       "        vertical-align: middle;\n",
       "    }\n",
       "\n",
       "    .dataframe tbody tr th {\n",
       "        vertical-align: top;\n",
       "    }\n",
       "\n",
       "    .dataframe thead th {\n",
       "        text-align: right;\n",
       "    }\n",
       "</style>\n",
       "<table border=\"1\" class=\"dataframe\">\n",
       "  <thead>\n",
       "    <tr style=\"text-align: right;\">\n",
       "      <th></th>\n",
       "      <th>id</th>\n",
       "      <th>qid1</th>\n",
       "      <th>qid2</th>\n",
       "      <th>question1</th>\n",
       "      <th>question2</th>\n",
       "    </tr>\n",
       "  </thead>\n",
       "  <tbody>\n",
       "    <tr>\n",
       "      <th>0</th>\n",
       "      <td>8067</td>\n",
       "      <td>15738</td>\n",
       "      <td>15739</td>\n",
       "      <td>How do I play Pokémon GO in Korea?</td>\n",
       "      <td>How do I play Pokémon GO in China?</td>\n",
       "    </tr>\n",
       "    <tr>\n",
       "      <th>1</th>\n",
       "      <td>368101</td>\n",
       "      <td>12736</td>\n",
       "      <td>104117</td>\n",
       "      <td>What are some of the best side dishes for crab...</td>\n",
       "      <td>What are some good side dishes for buffalo chi...</td>\n",
       "    </tr>\n",
       "    <tr>\n",
       "      <th>2</th>\n",
       "      <td>70497</td>\n",
       "      <td>121486</td>\n",
       "      <td>121487</td>\n",
       "      <td>Which is more advisable and better material fo...</td>\n",
       "      <td>What is the best server setup for buddypress?</td>\n",
       "    </tr>\n",
       "  </tbody>\n",
       "</table>\n",
       "</div>"
      ],
      "text/plain": [
       "       id    qid1    qid2                                          question1  \\\n",
       "0    8067   15738   15739                 How do I play Pokémon GO in Korea?   \n",
       "1  368101   12736  104117  What are some of the best side dishes for crab...   \n",
       "2   70497  121486  121487  Which is more advisable and better material fo...   \n",
       "\n",
       "                                           question2  \n",
       "0                 How do I play Pokémon GO in China?  \n",
       "1  What are some good side dishes for buffalo chi...  \n",
       "2      What is the best server setup for buddypress?  "
      ]
     },
     "execution_count": 68,
     "metadata": {},
     "output_type": "execute_result"
    }
   ],
   "source": [
    "\n",
    "#Check few rows of X_valid\n",
    "X_valid.head(3)"
   ]
  },
  {
   "cell_type": "markdown",
   "metadata": {},
   "source": [
    "### Simple Data Preprocessing for Baseline"
   ]
  },
  {
   "cell_type": "code",
   "execution_count": 69,
   "metadata": {
    "collapsed": false
   },
   "outputs": [],
   "source": [
    "# Function that takes a text and preprocess it like converting to string, split the string etc\n",
    "\n",
    "def preprocess_baseline_text(text):\n",
    "    text = str(text)\n",
    "    text = text.lower()\n",
    "    text = text.split()\n",
    "    \n",
    "    return text\n",
    "\n",
    "\n",
    "#Test the function\n",
    "assert preprocess_baseline_text('How do I play Pokémon GO in Korea?') == ['how', 'do', 'i', 'play', 'pokémon', 'go', 'in', 'korea?']\n"
   ]
  },
  {
   "cell_type": "code",
   "execution_count": 77,
   "metadata": {
    "collapsed": false
   },
   "outputs": [
    {
     "name": "stdout",
     "output_type": "stream",
     "text": [
      "     id   qid1   qid2                           question1  \\\n",
      "0  8067  15738  15739  How do I play Pokémon GO in Korea?   \n",
      "\n",
      "                            question2  \n",
      "0  How do I play Pokémon GO in China?  \n"
     ]
    }
   ],
   "source": [
    "print (X_valid[0:1])"
   ]
  },
  {
   "cell_type": "code",
   "execution_count": 83,
   "metadata": {
    "collapsed": false
   },
   "outputs": [],
   "source": [
    "# Function that returns a list of all the words from a dataframe\n",
    "\n",
    "def create_vocabulary(words_list,df,column_name):\n",
    "    for sentence in df[column_name]:\n",
    "        for word in sentence:\n",
    "            words_list.append(word)\n",
    "    return words_list\n",
    "\n",
    "\n",
    "#Test the function\n",
    "data = [['How do I play Pokémon GO in Korea?']]\n",
    "test_sub_df = pd.DataFrame(data,columns=['question1'])\n",
    "test_sub_df['question1'] = test_sub_df['question1'].apply(lambda x: preprocess_baseline_text(x))\n",
    "\n",
    "# assert the function is working fine with dataframe and column name\n",
    "assert create_vocabulary([],test_sub_df,'question1') == ['how', 'do', 'i', 'play', 'pokémon', 'go', 'in', 'korea?']\n"
   ]
  },
  {
   "cell_type": "code",
   "execution_count": 104,
   "metadata": {
    "collapsed": false
   },
   "outputs": [],
   "source": [
    "# Create new dataframes and do data preprocessing on the question1 and question 2 columns\n",
    "X_train_df = pd.DataFrame()\n",
    "X_valid_df = pd.DataFrame()\n",
    "X_train_df['question1'] = X_train['question1'].apply(lambda x:preprocess_baseline_text(x))\n",
    "X_train_df['question2'] = X_train['question2'].apply(lambda x:preprocess_baseline_text(x))\n",
    "X_valid_df['question1'] = X_valid['question1'].apply(lambda x:preprocess_baseline_text(x))\n",
    "X_valid_df['question2'] = X_valid['question2'].apply(lambda x:preprocess_baseline_text(x))\n",
    "\n",
    "#assertions on dataframe shape's\n",
    "assert X_train_df.shape[0] == X_train.shape[0]\n",
    "assert X_train_df.shape[1] == 2\n",
    "assert X_valid_df.shape[0] == X_valid_df.shape[0]\n",
    "assert X_valid_df.shape[1] == 2"
   ]
  },
  {
   "cell_type": "code",
   "execution_count": 105,
   "metadata": {
    "collapsed": false
   },
   "outputs": [
    {
     "data": {
      "text/html": [
       "<div>\n",
       "<style scoped>\n",
       "    .dataframe tbody tr th:only-of-type {\n",
       "        vertical-align: middle;\n",
       "    }\n",
       "\n",
       "    .dataframe tbody tr th {\n",
       "        vertical-align: top;\n",
       "    }\n",
       "\n",
       "    .dataframe thead th {\n",
       "        text-align: right;\n",
       "    }\n",
       "</style>\n",
       "<table border=\"1\" class=\"dataframe\">\n",
       "  <thead>\n",
       "    <tr style=\"text-align: right;\">\n",
       "      <th></th>\n",
       "      <th>question1</th>\n",
       "      <th>question2</th>\n",
       "    </tr>\n",
       "  </thead>\n",
       "  <tbody>\n",
       "    <tr>\n",
       "      <th>0</th>\n",
       "      <td>[how, is, the, working, environment, at, sbi, ...</td>\n",
       "      <td>[how, stressful, is, work, of, sbi, clerk?]</td>\n",
       "    </tr>\n",
       "    <tr>\n",
       "      <th>1</th>\n",
       "      <td>[how, can, a, us, citizen, work, in, canada?]</td>\n",
       "      <td>[will, a, us, graduate, degree, help, a, non-u...</td>\n",
       "    </tr>\n",
       "    <tr>\n",
       "      <th>2</th>\n",
       "      <td>[what, are, the, benefits, of, washing, your, ...</td>\n",
       "      <td>[why, is, it, important, to, wash, your, hands...</td>\n",
       "    </tr>\n",
       "  </tbody>\n",
       "</table>\n",
       "</div>"
      ],
      "text/plain": [
       "                                           question1  \\\n",
       "0  [how, is, the, working, environment, at, sbi, ...   \n",
       "1      [how, can, a, us, citizen, work, in, canada?]   \n",
       "2  [what, are, the, benefits, of, washing, your, ...   \n",
       "\n",
       "                                           question2  \n",
       "0        [how, stressful, is, work, of, sbi, clerk?]  \n",
       "1  [will, a, us, graduate, degree, help, a, non-u...  \n",
       "2  [why, is, it, important, to, wash, your, hands...  "
      ]
     },
     "execution_count": 105,
     "metadata": {},
     "output_type": "execute_result"
    }
   ],
   "source": [
    "# Check few rows of dataframe for manual validation\n",
    "X_train_df.head(3)"
   ]
  },
  {
   "cell_type": "code",
   "execution_count": 106,
   "metadata": {
    "collapsed": false
   },
   "outputs": [
    {
     "data": {
      "text/html": [
       "<div>\n",
       "<style scoped>\n",
       "    .dataframe tbody tr th:only-of-type {\n",
       "        vertical-align: middle;\n",
       "    }\n",
       "\n",
       "    .dataframe tbody tr th {\n",
       "        vertical-align: top;\n",
       "    }\n",
       "\n",
       "    .dataframe thead th {\n",
       "        text-align: right;\n",
       "    }\n",
       "</style>\n",
       "<table border=\"1\" class=\"dataframe\">\n",
       "  <thead>\n",
       "    <tr style=\"text-align: right;\">\n",
       "      <th></th>\n",
       "      <th>question1</th>\n",
       "      <th>question2</th>\n",
       "    </tr>\n",
       "  </thead>\n",
       "  <tbody>\n",
       "    <tr>\n",
       "      <th>0</th>\n",
       "      <td>[how, do, i, play, pokémon, go, in, korea?]</td>\n",
       "      <td>[how, do, i, play, pokémon, go, in, china?]</td>\n",
       "    </tr>\n",
       "    <tr>\n",
       "      <th>1</th>\n",
       "      <td>[what, are, some, of, the, best, side, dishes,...</td>\n",
       "      <td>[what, are, some, good, side, dishes, for, buf...</td>\n",
       "    </tr>\n",
       "    <tr>\n",
       "      <th>2</th>\n",
       "      <td>[which, is, more, advisable, and, better, mate...</td>\n",
       "      <td>[what, is, the, best, server, setup, for, budd...</td>\n",
       "    </tr>\n",
       "  </tbody>\n",
       "</table>\n",
       "</div>"
      ],
      "text/plain": [
       "                                           question1  \\\n",
       "0        [how, do, i, play, pokémon, go, in, korea?]   \n",
       "1  [what, are, some, of, the, best, side, dishes,...   \n",
       "2  [which, is, more, advisable, and, better, mate...   \n",
       "\n",
       "                                           question2  \n",
       "0        [how, do, i, play, pokémon, go, in, china?]  \n",
       "1  [what, are, some, good, side, dishes, for, buf...  \n",
       "2  [what, is, the, best, server, setup, for, budd...  "
      ]
     },
     "execution_count": 106,
     "metadata": {},
     "output_type": "execute_result"
    }
   ],
   "source": [
    "# Check few rows of dataframe for manual validation\n",
    "X_valid_df.head(3)"
   ]
  },
  {
   "cell_type": "markdown",
   "metadata": {},
   "source": [
    "# Create a simple baseline model with Logistic Regression\n",
    "\n",
    "\n",
    "\n"
   ]
  },
  {
   "cell_type": "markdown",
   "metadata": {},
   "source": [
    "### Preparing Features for Machine Learning Model.\n",
    "\n",
    "####    Create a feature based on how many words are common in question 1 and question 2"
   ]
  },
  {
   "cell_type": "code",
   "execution_count": 107,
   "metadata": {
    "collapsed": true
   },
   "outputs": [],
   "source": [
    "# Function to calculate how many unique words are common between two question sentence's\n",
    "def termfrequency(sentence1, sentence2):\n",
    "   \n",
    "    question_dict ={}\n",
    "    sentence1_words = sentence1   \n",
    "    sentence2_words = sentence2\n",
    "    searchtermfreq = []\n",
    "    \n",
    "    for key in sentence1_words:\n",
    "        question_dict[key] = question_dict.get(key,0) + 1\n",
    "    \n",
    "    for key in set(sentence2_words):\n",
    "        value =  question_dict.get(key,0)\n",
    "        if value >= 1:\n",
    "            value = 1\n",
    "        searchtermfreq.append(value)\n",
    "        \n",
    "    return sum(searchtermfreq)\n",
    "\n",
    "\n",
    "#assertion to make sure term frequency function is working fine\n",
    "assert termfrequency(['what', 'is', 'the', 'step', 'by', 'step'], ['what', 'is', 'the', 'step', 'by', 'step', 'guide']) == 5"
   ]
  },
  {
   "cell_type": "code",
   "execution_count": 130,
   "metadata": {
    "collapsed": false
   },
   "outputs": [],
   "source": [
    "#Creating a new column common_term_freq which has the value of unique words that are common between two question sentence's\n",
    "\n",
    "X_train_df['common_term_freq'] = X_train_df.apply(lambda x: termfrequency(x['question1'],x['question2']), axis=1 )\n",
    "X_valid_df['common_term_freq'] = X_valid_df.apply(lambda x: termfrequency(x['question1'],x['question2']), axis=1 )\n",
    "\n",
    "# assert to make sure the column is a number\n",
    "assert X_train_df['common_term_freq'].shape[0] == X_train_df.shape[0]\n",
    "assert X_valid_df['common_term_freq'].shape[0] == X_valid_df.shape[0]\n",
    "assert X_train_df['common_term_freq'][0] >- 0\n",
    "assert X_valid_df['common_term_freq'][0] >- 0"
   ]
  },
  {
   "cell_type": "markdown",
   "metadata": {},
   "source": [
    "### Creating features based on Total words frequency"
   ]
  },
  {
   "cell_type": "code",
   "execution_count": 131,
   "metadata": {
    "collapsed": false
   },
   "outputs": [],
   "source": [
    "#Function to calculate count of number of words in a sentence\n",
    "def total_words_freq(sentence):\n",
    "    return len(sentence)\n",
    "\n",
    "assert total_words_freq(['what', 'is', 'the', 'step', 'by', 'step']) == 6"
   ]
  },
  {
   "cell_type": "code",
   "execution_count": 133,
   "metadata": {
    "collapsed": false
   },
   "outputs": [],
   "source": [
    "#Create two new column's question1_words_freq and question2_words_freq using the above function \n",
    "#to calculate count of number of words in a sentence \n",
    "\n",
    "X_train_df['question1_words_freq'] = X_train_df['question1'].map(lambda x: total_words_freq(x))\n",
    "X_train_df['question2_words_freq'] = X_train_df['question2'].map(lambda x: total_words_freq(x))\n",
    "\n",
    "X_valid_df['question1_words_freq'] = X_valid_df['question1'].map(lambda x: total_words_freq(x))\n",
    "X_valid_df['question2_words_freq'] = X_valid_df['question2'].map(lambda x: total_words_freq(x))\n",
    "\n",
    "\n",
    "# assert to make sure the column is a number\n",
    "assert X_train_df['question1_words_freq'][0] >= 0\n",
    "assert X_train_df['question2_words_freq'][0] >= 0\n",
    "assert X_valid_df['question1_words_freq'][0] >= 0\n",
    "assert X_valid_df['question2_words_freq'][0] >= 0\n",
    "\n"
   ]
  },
  {
   "cell_type": "code",
   "execution_count": 134,
   "metadata": {
    "collapsed": false
   },
   "outputs": [
    {
     "data": {
      "text/html": [
       "<div>\n",
       "<style scoped>\n",
       "    .dataframe tbody tr th:only-of-type {\n",
       "        vertical-align: middle;\n",
       "    }\n",
       "\n",
       "    .dataframe tbody tr th {\n",
       "        vertical-align: top;\n",
       "    }\n",
       "\n",
       "    .dataframe thead th {\n",
       "        text-align: right;\n",
       "    }\n",
       "</style>\n",
       "<table border=\"1\" class=\"dataframe\">\n",
       "  <thead>\n",
       "    <tr style=\"text-align: right;\">\n",
       "      <th></th>\n",
       "      <th>question1</th>\n",
       "      <th>question2</th>\n",
       "      <th>common_term_freq</th>\n",
       "      <th>question1_words_freq</th>\n",
       "      <th>question2_words_freq</th>\n",
       "    </tr>\n",
       "  </thead>\n",
       "  <tbody>\n",
       "    <tr>\n",
       "      <th>0</th>\n",
       "      <td>[how, is, the, working, environment, at, sbi, ...</td>\n",
       "      <td>[how, stressful, is, work, of, sbi, clerk?]</td>\n",
       "      <td>3</td>\n",
       "      <td>9</td>\n",
       "      <td>7</td>\n",
       "    </tr>\n",
       "    <tr>\n",
       "      <th>1</th>\n",
       "      <td>[how, can, a, us, citizen, work, in, canada?]</td>\n",
       "      <td>[will, a, us, graduate, degree, help, a, non-u...</td>\n",
       "      <td>7</td>\n",
       "      <td>8</td>\n",
       "      <td>20</td>\n",
       "    </tr>\n",
       "    <tr>\n",
       "      <th>2</th>\n",
       "      <td>[what, are, the, benefits, of, washing, your, ...</td>\n",
       "      <td>[why, is, it, important, to, wash, your, hands...</td>\n",
       "      <td>4</td>\n",
       "      <td>10</td>\n",
       "      <td>10</td>\n",
       "    </tr>\n",
       "  </tbody>\n",
       "</table>\n",
       "</div>"
      ],
      "text/plain": [
       "                                           question1  \\\n",
       "0  [how, is, the, working, environment, at, sbi, ...   \n",
       "1      [how, can, a, us, citizen, work, in, canada?]   \n",
       "2  [what, are, the, benefits, of, washing, your, ...   \n",
       "\n",
       "                                           question2  common_term_freq  \\\n",
       "0        [how, stressful, is, work, of, sbi, clerk?]                 3   \n",
       "1  [will, a, us, graduate, degree, help, a, non-u...                 7   \n",
       "2  [why, is, it, important, to, wash, your, hands...                 4   \n",
       "\n",
       "   question1_words_freq  question2_words_freq  \n",
       "0                     9                     7  \n",
       "1                     8                    20  \n",
       "2                    10                    10  "
      ]
     },
     "execution_count": 134,
     "metadata": {},
     "output_type": "execute_result"
    }
   ],
   "source": [
    "# Check few rows\n",
    "X_train_df.head(3)\n"
   ]
  },
  {
   "cell_type": "code",
   "execution_count": 135,
   "metadata": {
    "collapsed": false
   },
   "outputs": [
    {
     "data": {
      "text/html": [
       "<div>\n",
       "<style scoped>\n",
       "    .dataframe tbody tr th:only-of-type {\n",
       "        vertical-align: middle;\n",
       "    }\n",
       "\n",
       "    .dataframe tbody tr th {\n",
       "        vertical-align: top;\n",
       "    }\n",
       "\n",
       "    .dataframe thead th {\n",
       "        text-align: right;\n",
       "    }\n",
       "</style>\n",
       "<table border=\"1\" class=\"dataframe\">\n",
       "  <thead>\n",
       "    <tr style=\"text-align: right;\">\n",
       "      <th></th>\n",
       "      <th>question1</th>\n",
       "      <th>question2</th>\n",
       "      <th>common_term_freq</th>\n",
       "      <th>question1_words_freq</th>\n",
       "      <th>question2_words_freq</th>\n",
       "    </tr>\n",
       "  </thead>\n",
       "  <tbody>\n",
       "    <tr>\n",
       "      <th>0</th>\n",
       "      <td>[how, do, i, play, pokémon, go, in, korea?]</td>\n",
       "      <td>[how, do, i, play, pokémon, go, in, china?]</td>\n",
       "      <td>7</td>\n",
       "      <td>8</td>\n",
       "      <td>8</td>\n",
       "    </tr>\n",
       "    <tr>\n",
       "      <th>1</th>\n",
       "      <td>[what, are, some, of, the, best, side, dishes,...</td>\n",
       "      <td>[what, are, some, good, side, dishes, for, buf...</td>\n",
       "      <td>6</td>\n",
       "      <td>11</td>\n",
       "      <td>9</td>\n",
       "    </tr>\n",
       "    <tr>\n",
       "      <th>2</th>\n",
       "      <td>[which, is, more, advisable, and, better, mate...</td>\n",
       "      <td>[what, is, the, best, server, setup, for, budd...</td>\n",
       "      <td>2</td>\n",
       "      <td>16</td>\n",
       "      <td>8</td>\n",
       "    </tr>\n",
       "  </tbody>\n",
       "</table>\n",
       "</div>"
      ],
      "text/plain": [
       "                                           question1  \\\n",
       "0        [how, do, i, play, pokémon, go, in, korea?]   \n",
       "1  [what, are, some, of, the, best, side, dishes,...   \n",
       "2  [which, is, more, advisable, and, better, mate...   \n",
       "\n",
       "                                           question2  common_term_freq  \\\n",
       "0        [how, do, i, play, pokémon, go, in, china?]                 7   \n",
       "1  [what, are, some, good, side, dishes, for, buf...                 6   \n",
       "2  [what, is, the, best, server, setup, for, budd...                 2   \n",
       "\n",
       "   question1_words_freq  question2_words_freq  \n",
       "0                     8                     8  \n",
       "1                    11                     9  \n",
       "2                    16                     8  "
      ]
     },
     "execution_count": 135,
     "metadata": {},
     "output_type": "execute_result"
    }
   ],
   "source": [
    "# Check few rows\n",
    "X_valid_df.head(3)"
   ]
  },
  {
   "cell_type": "markdown",
   "metadata": {},
   "source": [
    "### Dropping Columns"
   ]
  },
  {
   "cell_type": "code",
   "execution_count": 216,
   "metadata": {
    "collapsed": false
   },
   "outputs": [],
   "source": [
    "# Drop column's question1 and question2 since machine learning input requires columns with numbers\n",
    "X_train_model_input = X_train_df.drop(['question1','question2'],axis =1)\n",
    "X_valid_model_input = X_valid_df.drop(['question1','question2'],axis =1)\n",
    "\n",
    "assert X_train_model_input.shape[1] == X_train_df.shape[1] - 2\n",
    "assert X_valid_model_input.shape[1] == X_valid_df.shape[1] - 2"
   ]
  },
  {
   "cell_type": "code",
   "execution_count": 217,
   "metadata": {
    "collapsed": false
   },
   "outputs": [
    {
     "data": {
      "text/html": [
       "<div>\n",
       "<style scoped>\n",
       "    .dataframe tbody tr th:only-of-type {\n",
       "        vertical-align: middle;\n",
       "    }\n",
       "\n",
       "    .dataframe tbody tr th {\n",
       "        vertical-align: top;\n",
       "    }\n",
       "\n",
       "    .dataframe thead th {\n",
       "        text-align: right;\n",
       "    }\n",
       "</style>\n",
       "<table border=\"1\" class=\"dataframe\">\n",
       "  <thead>\n",
       "    <tr style=\"text-align: right;\">\n",
       "      <th></th>\n",
       "      <th>common_term_freq</th>\n",
       "      <th>question1_words_freq</th>\n",
       "      <th>question2_words_freq</th>\n",
       "    </tr>\n",
       "  </thead>\n",
       "  <tbody>\n",
       "    <tr>\n",
       "      <th>0</th>\n",
       "      <td>3</td>\n",
       "      <td>9</td>\n",
       "      <td>7</td>\n",
       "    </tr>\n",
       "    <tr>\n",
       "      <th>1</th>\n",
       "      <td>7</td>\n",
       "      <td>8</td>\n",
       "      <td>20</td>\n",
       "    </tr>\n",
       "    <tr>\n",
       "      <th>2</th>\n",
       "      <td>4</td>\n",
       "      <td>10</td>\n",
       "      <td>10</td>\n",
       "    </tr>\n",
       "    <tr>\n",
       "      <th>3</th>\n",
       "      <td>12</td>\n",
       "      <td>14</td>\n",
       "      <td>15</td>\n",
       "    </tr>\n",
       "    <tr>\n",
       "      <th>4</th>\n",
       "      <td>2</td>\n",
       "      <td>15</td>\n",
       "      <td>23</td>\n",
       "    </tr>\n",
       "  </tbody>\n",
       "</table>\n",
       "</div>"
      ],
      "text/plain": [
       "   common_term_freq  question1_words_freq  question2_words_freq\n",
       "0                 3                     9                     7\n",
       "1                 7                     8                    20\n",
       "2                 4                    10                    10\n",
       "3                12                    14                    15\n",
       "4                 2                    15                    23"
      ]
     },
     "execution_count": 217,
     "metadata": {},
     "output_type": "execute_result"
    }
   ],
   "source": [
    "X_train_model_input.head(5)"
   ]
  },
  {
   "cell_type": "code",
   "execution_count": 223,
   "metadata": {
    "collapsed": false
   },
   "outputs": [
    {
     "data": {
      "text/html": [
       "<div>\n",
       "<style scoped>\n",
       "    .dataframe tbody tr th:only-of-type {\n",
       "        vertical-align: middle;\n",
       "    }\n",
       "\n",
       "    .dataframe tbody tr th {\n",
       "        vertical-align: top;\n",
       "    }\n",
       "\n",
       "    .dataframe thead th {\n",
       "        text-align: right;\n",
       "    }\n",
       "</style>\n",
       "<table border=\"1\" class=\"dataframe\">\n",
       "  <thead>\n",
       "    <tr style=\"text-align: right;\">\n",
       "      <th></th>\n",
       "      <th>common_term_freq</th>\n",
       "      <th>question1_words_freq</th>\n",
       "      <th>question2_words_freq</th>\n",
       "    </tr>\n",
       "  </thead>\n",
       "  <tbody>\n",
       "    <tr>\n",
       "      <th>0</th>\n",
       "      <td>7</td>\n",
       "      <td>8</td>\n",
       "      <td>8</td>\n",
       "    </tr>\n",
       "    <tr>\n",
       "      <th>1</th>\n",
       "      <td>6</td>\n",
       "      <td>11</td>\n",
       "      <td>9</td>\n",
       "    </tr>\n",
       "    <tr>\n",
       "      <th>2</th>\n",
       "      <td>2</td>\n",
       "      <td>16</td>\n",
       "      <td>8</td>\n",
       "    </tr>\n",
       "  </tbody>\n",
       "</table>\n",
       "</div>"
      ],
      "text/plain": [
       "   common_term_freq  question1_words_freq  question2_words_freq\n",
       "0                 7                     8                     8\n",
       "1                 6                    11                     9\n",
       "2                 2                    16                     8"
      ]
     },
     "execution_count": 223,
     "metadata": {},
     "output_type": "execute_result"
    }
   ],
   "source": [
    "X_valid_model_input.head(3)"
   ]
  },
  {
   "cell_type": "markdown",
   "metadata": {},
   "source": [
    "### Scaling the input features"
   ]
  },
  {
   "cell_type": "code",
   "execution_count": 258,
   "metadata": {
    "collapsed": false
   },
   "outputs": [
    {
     "data": {
      "text/html": [
       "<div>\n",
       "<style scoped>\n",
       "    .dataframe tbody tr th:only-of-type {\n",
       "        vertical-align: middle;\n",
       "    }\n",
       "\n",
       "    .dataframe tbody tr th {\n",
       "        vertical-align: top;\n",
       "    }\n",
       "\n",
       "    .dataframe thead th {\n",
       "        text-align: right;\n",
       "    }\n",
       "</style>\n",
       "<table border=\"1\" class=\"dataframe\">\n",
       "  <thead>\n",
       "    <tr style=\"text-align: right;\">\n",
       "      <th></th>\n",
       "      <th>common_term_freq</th>\n",
       "      <th>question1_words_freq</th>\n",
       "      <th>question2_words_freq</th>\n",
       "    </tr>\n",
       "  </thead>\n",
       "  <tbody>\n",
       "    <tr>\n",
       "      <th>0</th>\n",
       "      <td>-0.486316</td>\n",
       "      <td>-0.358172</td>\n",
       "      <td>-0.661590</td>\n",
       "    </tr>\n",
       "    <tr>\n",
       "      <th>1</th>\n",
       "      <td>0.804862</td>\n",
       "      <td>-0.542547</td>\n",
       "      <td>1.392203</td>\n",
       "    </tr>\n",
       "    <tr>\n",
       "      <th>2</th>\n",
       "      <td>-0.163522</td>\n",
       "      <td>-0.173797</td>\n",
       "      <td>-0.187638</td>\n",
       "    </tr>\n",
       "    <tr>\n",
       "      <th>3</th>\n",
       "      <td>2.418835</td>\n",
       "      <td>0.563704</td>\n",
       "      <td>0.602283</td>\n",
       "    </tr>\n",
       "    <tr>\n",
       "      <th>4</th>\n",
       "      <td>-0.809111</td>\n",
       "      <td>0.748079</td>\n",
       "      <td>1.866156</td>\n",
       "    </tr>\n",
       "  </tbody>\n",
       "</table>\n",
       "</div>"
      ],
      "text/plain": [
       "   common_term_freq  question1_words_freq  question2_words_freq\n",
       "0         -0.486316             -0.358172             -0.661590\n",
       "1          0.804862             -0.542547              1.392203\n",
       "2         -0.163522             -0.173797             -0.187638\n",
       "3          2.418835              0.563704              0.602283\n",
       "4         -0.809111              0.748079              1.866156"
      ]
     },
     "execution_count": 258,
     "metadata": {},
     "output_type": "execute_result"
    }
   ],
   "source": [
    "#Using standard scaler to fit and transform the training data\n",
    "StandardScaler = preprocessing.StandardScaler()\n",
    "X_train_model_input[['common_term_freq','question1_words_freq','question2_words_freq']] = StandardScaler.fit_transform(X_train_model_input[['common_term_freq','question1_words_freq','question2_words_freq']])\n",
    "# print(StandardScaler)\n",
    "# print(StandardScaler.mean_)\n",
    "X_train_model_input.head(5)"
   ]
  },
  {
   "cell_type": "code",
   "execution_count": 259,
   "metadata": {
    "collapsed": false
   },
   "outputs": [
    {
     "data": {
      "text/html": [
       "<div>\n",
       "<style scoped>\n",
       "    .dataframe tbody tr th:only-of-type {\n",
       "        vertical-align: middle;\n",
       "    }\n",
       "\n",
       "    .dataframe tbody tr th {\n",
       "        vertical-align: top;\n",
       "    }\n",
       "\n",
       "    .dataframe thead th {\n",
       "        text-align: right;\n",
       "    }\n",
       "</style>\n",
       "<table border=\"1\" class=\"dataframe\">\n",
       "  <thead>\n",
       "    <tr style=\"text-align: right;\">\n",
       "      <th></th>\n",
       "      <th>common_term_freq</th>\n",
       "      <th>question1_words_freq</th>\n",
       "      <th>question2_words_freq</th>\n",
       "    </tr>\n",
       "  </thead>\n",
       "  <tbody>\n",
       "    <tr>\n",
       "      <th>0</th>\n",
       "      <td>0.804862</td>\n",
       "      <td>-0.542547</td>\n",
       "      <td>-0.503606</td>\n",
       "    </tr>\n",
       "    <tr>\n",
       "      <th>1</th>\n",
       "      <td>0.482068</td>\n",
       "      <td>0.010578</td>\n",
       "      <td>-0.345622</td>\n",
       "    </tr>\n",
       "    <tr>\n",
       "      <th>2</th>\n",
       "      <td>-0.809111</td>\n",
       "      <td>0.932454</td>\n",
       "      <td>-0.503606</td>\n",
       "    </tr>\n",
       "    <tr>\n",
       "      <th>3</th>\n",
       "      <td>-0.163522</td>\n",
       "      <td>-0.726922</td>\n",
       "      <td>-0.345622</td>\n",
       "    </tr>\n",
       "    <tr>\n",
       "      <th>4</th>\n",
       "      <td>-0.486316</td>\n",
       "      <td>-0.358172</td>\n",
       "      <td>-0.661590</td>\n",
       "    </tr>\n",
       "  </tbody>\n",
       "</table>\n",
       "</div>"
      ],
      "text/plain": [
       "   common_term_freq  question1_words_freq  question2_words_freq\n",
       "0          0.804862             -0.542547             -0.503606\n",
       "1          0.482068              0.010578             -0.345622\n",
       "2         -0.809111              0.932454             -0.503606\n",
       "3         -0.163522             -0.726922             -0.345622\n",
       "4         -0.486316             -0.358172             -0.661590"
      ]
     },
     "execution_count": 259,
     "metadata": {},
     "output_type": "execute_result"
    }
   ],
   "source": [
    "#Using standard scaler to transform the validation data\n",
    "X_valid_model_input[['common_term_freq','question1_words_freq','question2_words_freq']] = StandardScaler.transform(X_valid_model_input[['common_term_freq','question1_words_freq','question2_words_freq']])\n",
    "X_valid_model_input.head(5)"
   ]
  },
  {
   "cell_type": "markdown",
   "metadata": {},
   "source": [
    "# Baseline Model Training and Evaluation"
   ]
  },
  {
   "cell_type": "code",
   "execution_count": 248,
   "metadata": {
    "collapsed": false
   },
   "outputs": [
    {
     "name": "stdout",
     "output_type": "stream",
     "text": [
      "Log loss for training set: 11.942944153908059\n",
      "Log loss for validation set: 12.033583121165355\n"
     ]
    }
   ],
   "source": [
    "# Function that takes input, output and classifier to fit the model\n",
    "def train_classifier(clf, X_train, y_train):\n",
    "    clf.fit(X_train, y_train)\n",
    "    return clf\n",
    "    \n",
    "#Function that takes the fitted classifier for prediction and return log loss and confusion matrix\n",
    "def predict_labels(clf, X_train, y_train):\n",
    "    y_pred = clf.predict(X_train)\n",
    "    labels = ['Duplicate Question', 'Not Duplicate Question']\n",
    "    return log_loss(y_train, y_pred, eps=1e-15), confusion_matrix(y_train, y_pred)\n",
    "\n",
    "# Use Logistic Regression as classifier\n",
    "clf =  LogisticRegression()\n",
    "\n",
    "# Fit Logistic Regression Classifier\n",
    "clf_fit = train_classifier(clf, X_train_model_input, y_train.values.ravel())\n",
    "\n",
    "# Predict on train data\n",
    "train_metrics = predict_labels(clf_fit, X_train_model_input, y_train.values.ravel())\n",
    "print (\"Log loss for training set: {}\".format(train_metrics[0]))\n",
    "# print (\"Confusion matrix for training set: {}\".format(train_metrics[1]))\n",
    "train_cm = train_metrics[1]\n",
    "\n",
    "\n",
    "# Predict on Validation data\n",
    "validation_metrics = predict_labels(clf_fit, X_valid_model_input, y_valid.values.ravel())\n",
    "print (\"Log loss for validation set: {}\".format(validation_metrics[0]))\n",
    "# print (\"Confusion matrix for validation set: {}\".format(validation_metrics[1]))\n",
    "\n"
   ]
  },
  {
   "cell_type": "code",
   "execution_count": 249,
   "metadata": {
    "collapsed": false
   },
   "outputs": [
    {
     "name": "stdout",
     "output_type": "stream",
     "text": [
      "Classification Coefficients are [[ 0.89421766 -0.51337388 -0.62101507]]\n",
      "Classification Intercept is [-0.68916547]\n"
     ]
    }
   ],
   "source": [
    "#Print Classification coefficient and Intercepts\n",
    "print (\"Classification Coefficients are {}\".format(clf_fit.coef_))\n",
    "print (\"Classification Intercept is {}\".format(clf_fit.intercept_))\n"
   ]
  },
  {
   "cell_type": "code",
   "execution_count": 250,
   "metadata": {
    "collapsed": false
   },
   "outputs": [],
   "source": [
    "# Function to plot confustion matrix\n",
    "def plot_confusion_matrix(cm,\n",
    "                          target_names,\n",
    "                          title='Confusion matrix',\n",
    "                          cmap=None,\n",
    "                          normalize=True):\n",
    "    \"\"\"\n",
    "    given a sklearn confusion matrix (cm), make a nice plot\n",
    "\n",
    "    Arguments\n",
    "    ---------\n",
    "    cm:           confusion matrix from sklearn.metrics.confusion_matrix\n",
    "\n",
    "    target_names: given classification classes such as [0, 1, 2]\n",
    "                  the class names, for example: ['high', 'medium', 'low']\n",
    "\n",
    "    title:        the text to display at the top of the matrix\n",
    "\n",
    "    cmap:         the gradient of the values displayed from matplotlib.pyplot.cm\n",
    "                  see http://matplotlib.org/examples/color/colormaps_reference.html\n",
    "                  plt.get_cmap('jet') or plt.cm.Blues\n",
    "\n",
    "    normalize:    If False, plot the raw numbers\n",
    "                  If True, plot the proportions\n",
    "\n",
    "    Usage\n",
    "    -----\n",
    "    plot_confusion_matrix(cm           = cm,                  # confusion matrix created by\n",
    "                                                              # sklearn.metrics.confusion_matrix\n",
    "                          normalize    = True,                # show proportions\n",
    "                          target_names = y_labels_vals,       # list of names of the classes\n",
    "                          title        = best_estimator_name) # title of graph\n",
    "\n",
    "    Citiation\n",
    "    ---------\n",
    "    http://scikit-learn.org/stable/auto_examples/model_selection/plot_confusion_matrix.html\n",
    "\n",
    "    \"\"\"\n",
    "    import matplotlib.pyplot as plt\n",
    "    import numpy as np\n",
    "    import itertools\n",
    "\n",
    "    accuracy = np.trace(cm) / float(np.sum(cm))\n",
    "    misclass = 1 - accuracy\n",
    "\n",
    "    if cmap is None:\n",
    "        cmap = plt.get_cmap('Blues')\n",
    "\n",
    "    plt.figure(figsize=(8, 6))\n",
    "    plt.imshow(cm, interpolation='nearest', cmap=cmap)\n",
    "    plt.title(title)\n",
    "    plt.colorbar()\n",
    "\n",
    "    if target_names is not None:\n",
    "        tick_marks = np.arange(len(target_names))\n",
    "        plt.xticks(tick_marks, target_names, rotation=45)\n",
    "        plt.yticks(tick_marks, target_names)\n",
    "\n",
    "    if normalize:\n",
    "        cm = cm.astype('float') / cm.sum(axis=1)[:, np.newaxis]\n",
    "\n",
    "\n",
    "    thresh = cm.max() / 1.5 if normalize else cm.max() / 2\n",
    "    for i, j in itertools.product(range(cm.shape[0]), range(cm.shape[1])):\n",
    "        if normalize:\n",
    "            plt.text(j, i, \"{:0.4f}\".format(cm[i, j]),\n",
    "                     horizontalalignment=\"center\",\n",
    "                     color=\"white\" if cm[i, j] > thresh else \"black\")\n",
    "        else:\n",
    "            plt.text(j, i, \"{:,}\".format(cm[i, j]),\n",
    "                     horizontalalignment=\"center\",\n",
    "                     color=\"white\" if cm[i, j] > thresh else \"black\")\n",
    "\n",
    "\n",
    "    plt.tight_layout()\n",
    "    plt.ylabel('True label')\n",
    "    plt.xlabel('Predicted label\\naccuracy={:0.4f}; misclass={:0.4f}'.format(accuracy, misclass))\n",
    "    plt.show()"
   ]
  },
  {
   "cell_type": "markdown",
   "metadata": {},
   "source": [
    "# Confusion matrix for Training data"
   ]
  },
  {
   "cell_type": "code",
   "execution_count": 356,
   "metadata": {
    "collapsed": false
   },
   "outputs": [
    {
     "data": {
      "image/png": "[encoded data removed]",
      "text/plain": [
       "<Figure size 576x432 with 2 Axes>"
      ]
     },
     "metadata": {},
     "output_type": "display_data"
    }
   ],
   "source": [
    "\n",
    "plot_confusion_matrix(cm           = train_metrics[1], \n",
    "                      normalize    = False,\n",
    "                      target_names = ['Non-Duplicate', 'Duplicate'],\n",
    "                      title        = \"Training Data Confusion Matrix\")"
   ]
  },
  {
   "cell_type": "markdown",
   "metadata": {},
   "source": [
    "# Confusion matrix for Validation data using Logistic Regression"
   ]
  },
  {
   "cell_type": "code",
   "execution_count": 357,
   "metadata": {
    "collapsed": false
   },
   "outputs": [
    {
     "data": {
      "image/png": "[encoded data removed]",
      "text/plain": [
       "<Figure size 576x432 with 2 Axes>"
      ]
     },
     "metadata": {},
     "output_type": "display_data"
    }
   ],
   "source": [
    "\n",
    "plot_confusion_matrix(cm           = validation_metrics[1], \n",
    "                      normalize    = False,\n",
    "                      target_names = ['Non-Duplicate', 'Duplicate'],\n",
    "                      title        = \"Validation data Confusion Matrix\")"
   ]
  },
  {
   "cell_type": "markdown",
   "metadata": {},
   "source": [
    "# To check how many top frequent 10000 words in complete vocabulary are in word2vec "
   ]
  },
  {
   "cell_type": "code",
   "execution_count": 256,
   "metadata": {
    "collapsed": false
   },
   "outputs": [
    {
     "name": "stdout",
     "output_type": "stream",
     "text": [
      "Length of words after adding training data question 1 4423826\n",
      "Length of words after adding training data question 2 8944593\n",
      "Length of words after adding test data question 1 48146246\n",
      "Length of words after adding test data question 2 87470531\n"
     ]
    }
   ],
   "source": [
    "# Create complete vocabulary from all the data using training and test data.\n",
    "\n",
    "words_list = create_vocabulary([],X_all_1,'question1')\n",
    "print (\"Length of words after adding training data question 1 {}\".format(len(words_list)))\n",
    "words_list = create_vocabulary(words_list,X_all_1,'question2')\n",
    "print (\"Length of words after adding training data question 2 {}\".format(len(words_list)))\n",
    "words_list = create_vocabulary(words_list,test_df_1,'question1')\n",
    "print (\"Length of words after adding test data question 1 {}\".format(len(words_list)))\n",
    "words_list = create_vocabulary(words_list,test_df_1,'question2')\n",
    "print (\"Length of words after adding test data question 2 {}\".format(len(words_list)))\n",
    "\n",
    "# asserting to check words list calculation did not provide empty records\n",
    "assert len(words_list) > 0"
   ]
  },
  {
   "cell_type": "code",
   "execution_count": 255,
   "metadata": {
    "collapsed": false,
    "scrolled": true
   },
   "outputs": [
    {
     "name": "stdout",
     "output_type": "stream",
     "text": [
      "Total count of unique words in vocabulary 327522\n",
      "Out of 10000 top frequent words 6614 words are present in word2vec after basic preprocessing of text\n",
      "Out of 10000 top frequent words 3386 words are not present in word2vec after basic preprocessing of text\n"
     ]
    }
   ],
   "source": [
    "# To check how many top frequent 10000 words in complete vocabulary are in word2vec after basic preprocessing of text\n",
    "\n",
    "print (\"Total count of unique words in vocabulary {}\".format(len(set(words_list))))\n",
    "words_freq = collections.Counter(words_list)\n",
    "words_freq.most_common(10)\n",
    "words_freq_10000 = words_freq.most_common(10000)\n",
    "\n",
    "\n",
    "word_in_word2vec = []\n",
    "word_notin_word2vec = []\n",
    "\n",
    "for word in words_freq.most_common(10000):\n",
    "    if word[0] in model.vocab:\n",
    "        word_in_word2vec.append(word[0])\n",
    "    else:\n",
    "        word_notin_word2vec.append(word[0])\n",
    "        \n",
    "print (\"Out of 10000 top frequent words {} words are present in word2vec after basic preprocessing of text\".format(len(word_in_word2vec)))\n",
    "print (\"Out of 10000 top frequent words {} words are not present in word2vec after basic preprocessing of text\".format(len(word_notin_word2vec)))\n",
    "\n",
    "     \n",
    "        "
   ]
  },
  {
   "cell_type": "code",
   "execution_count": 261,
   "metadata": {
    "collapsed": false
   },
   "outputs": [
    {
     "name": "stdout",
     "output_type": "stream",
     "text": [
      "Top 100 words from hightly frequent words in vocabulary present in word2vec [('the', 3398855), ('what', 2980203), ('is', 2573361), ('how', 2090590), ('i', 2060339), ('a', 2028806), ('in', 1944305), ('to', 1898636), ('of', 1467452), ('do', 1374660), ('are', 1294421), ('and', 1223643), ('can', 1072247), ('for', 1012448), ('why', 707330), ('you', 699351), ('my', 666512), ('best', 632025), ('it', 581168), ('on', 547035), ('does', 521099), ('which', 466737), ('or', 461708), ('if', 408308), ('get', 386807), ('with', 384513), ('be', 375348), ('should', 372922), ('an', 362490), ('have', 361547), ('that', 357477), ('some', 351606), ('from', 325810), ('your', 272379), ('when', 258746), ('will', 250735), ('who', 247316), ('at', 246414), ('good', 233478), ('like', 223882), ('there', 214642), ('people', 212807), ('as', 210562), ('would', 208053), ('between', 196776), ('where', 190411), ('one', 181467), ('about', 178274), ('most', 171376), ('way', 167888), ('make', 167313), ('any', 165852), ('not', 161751), ('we', 159834), ('by', 155638), ('india?', 155451), ('after', 148930), ('did', 148650), ('was', 148272), ('am', 138205), ('difference', 136870), ('they', 134790), ('has', 126469), ('much', 126192), (\"what's\", 125564), ('so', 124523), ('learn', 121898), ('use', 120767), ('know', 116628), ('this', 116478), ('me', 115295), ('their', 115284), ('many', 112912), ('than', 110061), ('find', 107829), ('time', 107074), ('india', 106549), ('more', 102588), ('but', 102314), ('money', 102062), ('someone', 100078), ('all', 99907), ('without', 97196), ('indian', 96303), ('other', 95886), ('new', 95702), ('want', 95235), ('become', 91086), ('think', 90352), ('better', 85382), ('first', 84387), ('start', 84243), ('ever', 82374), ('into', 82279), ('quora', 79965), ('take', 77569), ('out', 76810), (\"don't\", 73582), ('feel', 72579), ('he', 72556)]\n"
     ]
    }
   ],
   "source": [
    "print (\"Top 100 words from hightly frequent words in vocabulary present in word2vec {}\".format(words_freq_10000[0:100]))"
   ]
  },
  {
   "cell_type": "code",
   "execution_count": 263,
   "metadata": {
    "collapsed": false
   },
   "outputs": [
    {
     "name": "stdout",
     "output_type": "stream",
     "text": [
      "Top 100 words from hightly frequent words in vocabulary not present in word2vec ['a', 'to', 'of', 'and', 'india?', 'quora', 'quora?', 'why?', 'life?', 'it?', \"i'm\", 'do?', 'time?', 'me?', 'english?', '2016?', 'mean?', 'online?', 'work?', '?', '10', 'instagram', 'you?', '2016', 'world?', '500', 'them?', 'engineering?', '1000', 'weight?', 'money?', 'account?', 'like?', 'whatsapp', 'not?', 'exam?', 'for?', 'language?', 'possible?', 'this?', 'sentence?', 'people?', 'day?', 'phone?', '-', 'number?', 'us?', 'sydney?', 'skills?', 'now?', 'country?', 'sex?', 'so,', 'instagram?', 'system?', 'facebook?', 'in?', 'free?', 'university?', 'job?', 'business?', 'movies?', 'bangalore?', 'year?', 'from?', 'person?', 'love?', 'about?', '2017?', 'college?', 'company?', 'water?', 'u.s.', 'programming?', 'companies?', 'exist?', 'app?', 'china?', 'fat?', 'card?', 'website?', 'years?', 'youtube?', 'how?', 'delhi?', 'one?', 'have?', 'science?', '/', 'girl?', \"someone's\", 'usa?', '12', 'be?', 'school?', \"i've\", 'jio', 'interview?', 'snapchat', 'month?']\n"
     ]
    }
   ],
   "source": [
    "print (\"Top 100 words from hightly frequent words in vocabulary not present in word2vec {}\".format(word_notin_word2vec[0:100]))\n"
   ]
  },
  {
   "cell_type": "markdown",
   "metadata": {
    "collapsed": true
   },
   "source": [
    "# Further Preprocessing Text"
   ]
  },
  {
   "cell_type": "code",
   "execution_count": 265,
   "metadata": {
    "collapsed": true
   },
   "outputs": [],
   "source": [
    "# As you can see from above there are many words that are not present in word2vec\n",
    "#and some of them are time?, someone's etc so further text preprocessing is required."
   ]
  },
  {
   "cell_type": "code",
   "execution_count": 273,
   "metadata": {
    "collapsed": false
   },
   "outputs": [],
   "source": [
    "# Function to preprocess text\n",
    "def preprocess_text(text):\n",
    "    text = str(text)\n",
    "    text = text.lower()\n",
    "    \n",
    "    text = re.sub(r\"[^A-Za-z0-9^?,!.\\/'+-=]\", \" \", text)\n",
    "    text = re.sub(r\"\\.\", \" \", text)\n",
    "    text = re.sub(r\"\\'s\", \" \", text)\n",
    "    text = re.sub(r\"\\'ve\", \" have \", text)\n",
    "    text = re.sub(r\"i'm\", \"i am \", text)\n",
    "    text = re.sub(r\"\\?\", \" \", text)\n",
    "    text = re.sub(r\",\", \" \", text)\n",
    "    text = re.sub(r\"!\", \" ! \", text)\n",
    "    text = re.sub(r\"\\/\", \" \", text)\n",
    "    text = re.sub(r\"\\+\", \" + \", text)\n",
    "    text = re.sub(r\"\\-\", \" - \", text)\n",
    "    text = re.sub(r\"\\=\", \" = \", text)\n",
    "    \n",
    "    text = text.split()\n",
    "    \n",
    "    return text\n",
    "\n",
    "assert preprocess_text('What is= the step by step guide to invest in?') == ['what', 'is', '=', 'the', 'step', 'by', 'step', 'guide', 'to', 'invest', 'in']"
   ]
  },
  {
   "cell_type": "code",
   "execution_count": 274,
   "metadata": {
    "collapsed": true
   },
   "outputs": [],
   "source": [
    "# Creating empty dataframes so that we can assign the new preprocessed text data\n",
    "X_train_df = pd.DataFrame()\n",
    "X_valid_df = pd.DataFrame()\n",
    "X_test_df = pd.DataFrame()"
   ]
  },
  {
   "cell_type": "code",
   "execution_count": 275,
   "metadata": {
    "collapsed": false
   },
   "outputs": [
    {
     "data": {
      "text/html": [
       "<div>\n",
       "<style scoped>\n",
       "    .dataframe tbody tr th:only-of-type {\n",
       "        vertical-align: middle;\n",
       "    }\n",
       "\n",
       "    .dataframe tbody tr th {\n",
       "        vertical-align: top;\n",
       "    }\n",
       "\n",
       "    .dataframe thead th {\n",
       "        text-align: right;\n",
       "    }\n",
       "</style>\n",
       "<table border=\"1\" class=\"dataframe\">\n",
       "  <thead>\n",
       "    <tr style=\"text-align: right;\">\n",
       "      <th></th>\n",
       "      <th>id</th>\n",
       "      <th>qid1</th>\n",
       "      <th>qid2</th>\n",
       "      <th>question1</th>\n",
       "      <th>question2</th>\n",
       "    </tr>\n",
       "  </thead>\n",
       "  <tbody>\n",
       "    <tr>\n",
       "      <th>0</th>\n",
       "      <td>20128</td>\n",
       "      <td>37998</td>\n",
       "      <td>37999</td>\n",
       "      <td>How is the working environment at SBI Life, Mu...</td>\n",
       "      <td>How stressful is work of SBI clerk?</td>\n",
       "    </tr>\n",
       "    <tr>\n",
       "      <th>1</th>\n",
       "      <td>296237</td>\n",
       "      <td>418414</td>\n",
       "      <td>31812</td>\n",
       "      <td>How can a US citizen work in Canada?</td>\n",
       "      <td>Will a US graduate degree help a non-US citize...</td>\n",
       "    </tr>\n",
       "    <tr>\n",
       "      <th>2</th>\n",
       "      <td>107095</td>\n",
       "      <td>176273</td>\n",
       "      <td>176274</td>\n",
       "      <td>What are the benefits of washing your hands wi...</td>\n",
       "      <td>Why is it important to wash your hands with soap?</td>\n",
       "    </tr>\n",
       "  </tbody>\n",
       "</table>\n",
       "</div>"
      ],
      "text/plain": [
       "       id    qid1    qid2                                          question1  \\\n",
       "0   20128   37998   37999  How is the working environment at SBI Life, Mu...   \n",
       "1  296237  418414   31812               How can a US citizen work in Canada?   \n",
       "2  107095  176273  176274  What are the benefits of washing your hands wi...   \n",
       "\n",
       "                                           question2  \n",
       "0                How stressful is work of SBI clerk?  \n",
       "1  Will a US graduate degree help a non-US citize...  \n",
       "2  Why is it important to wash your hands with soap?  "
      ]
     },
     "execution_count": 275,
     "metadata": {},
     "output_type": "execute_result"
    }
   ],
   "source": [
    "X_train.head(3)"
   ]
  },
  {
   "cell_type": "code",
   "execution_count": 277,
   "metadata": {
    "collapsed": false
   },
   "outputs": [
    {
     "data": {
      "text/html": [
       "<div>\n",
       "<style scoped>\n",
       "    .dataframe tbody tr th:only-of-type {\n",
       "        vertical-align: middle;\n",
       "    }\n",
       "\n",
       "    .dataframe tbody tr th {\n",
       "        vertical-align: top;\n",
       "    }\n",
       "\n",
       "    .dataframe thead th {\n",
       "        text-align: right;\n",
       "    }\n",
       "</style>\n",
       "<table border=\"1\" class=\"dataframe\">\n",
       "  <thead>\n",
       "    <tr style=\"text-align: right;\">\n",
       "      <th></th>\n",
       "      <th>id</th>\n",
       "      <th>qid1</th>\n",
       "      <th>qid2</th>\n",
       "      <th>question1</th>\n",
       "      <th>question2</th>\n",
       "    </tr>\n",
       "  </thead>\n",
       "  <tbody>\n",
       "    <tr>\n",
       "      <th>0</th>\n",
       "      <td>8067</td>\n",
       "      <td>15738</td>\n",
       "      <td>15739</td>\n",
       "      <td>How do I play Pokémon GO in Korea?</td>\n",
       "      <td>How do I play Pokémon GO in China?</td>\n",
       "    </tr>\n",
       "    <tr>\n",
       "      <th>1</th>\n",
       "      <td>368101</td>\n",
       "      <td>12736</td>\n",
       "      <td>104117</td>\n",
       "      <td>What are some of the best side dishes for crab...</td>\n",
       "      <td>What are some good side dishes for buffalo chi...</td>\n",
       "    </tr>\n",
       "    <tr>\n",
       "      <th>2</th>\n",
       "      <td>70497</td>\n",
       "      <td>121486</td>\n",
       "      <td>121487</td>\n",
       "      <td>Which is more advisable and better material fo...</td>\n",
       "      <td>What is the best server setup for buddypress?</td>\n",
       "    </tr>\n",
       "  </tbody>\n",
       "</table>\n",
       "</div>"
      ],
      "text/plain": [
       "       id    qid1    qid2                                          question1  \\\n",
       "0    8067   15738   15739                 How do I play Pokémon GO in Korea?   \n",
       "1  368101   12736  104117  What are some of the best side dishes for crab...   \n",
       "2   70497  121486  121487  Which is more advisable and better material fo...   \n",
       "\n",
       "                                           question2  \n",
       "0                 How do I play Pokémon GO in China?  \n",
       "1  What are some good side dishes for buffalo chi...  \n",
       "2      What is the best server setup for buddypress?  "
      ]
     },
     "execution_count": 277,
     "metadata": {},
     "output_type": "execute_result"
    }
   ],
   "source": [
    "X_valid.head(3)"
   ]
  },
  {
   "cell_type": "code",
   "execution_count": 276,
   "metadata": {
    "collapsed": false
   },
   "outputs": [
    {
     "data": {
      "text/html": [
       "<div>\n",
       "<style scoped>\n",
       "    .dataframe tbody tr th:only-of-type {\n",
       "        vertical-align: middle;\n",
       "    }\n",
       "\n",
       "    .dataframe tbody tr th {\n",
       "        vertical-align: top;\n",
       "    }\n",
       "\n",
       "    .dataframe thead th {\n",
       "        text-align: right;\n",
       "    }\n",
       "</style>\n",
       "<table border=\"1\" class=\"dataframe\">\n",
       "  <thead>\n",
       "    <tr style=\"text-align: right;\">\n",
       "      <th></th>\n",
       "      <th>test_id</th>\n",
       "      <th>question1</th>\n",
       "      <th>question2</th>\n",
       "    </tr>\n",
       "  </thead>\n",
       "  <tbody>\n",
       "    <tr>\n",
       "      <th>0</th>\n",
       "      <td>0</td>\n",
       "      <td>How does the Surface Pro himself 4 compare wit...</td>\n",
       "      <td>Why did Microsoft choose core m3 and not core ...</td>\n",
       "    </tr>\n",
       "    <tr>\n",
       "      <th>1</th>\n",
       "      <td>1</td>\n",
       "      <td>Should I have a hair transplant at age 24? How...</td>\n",
       "      <td>How much cost does hair transplant require?</td>\n",
       "    </tr>\n",
       "    <tr>\n",
       "      <th>2</th>\n",
       "      <td>2</td>\n",
       "      <td>What but is the best way to send money from Ch...</td>\n",
       "      <td>What you send money to China?</td>\n",
       "    </tr>\n",
       "  </tbody>\n",
       "</table>\n",
       "</div>"
      ],
      "text/plain": [
       "  test_id                                          question1  \\\n",
       "0       0  How does the Surface Pro himself 4 compare wit...   \n",
       "1       1  Should I have a hair transplant at age 24? How...   \n",
       "2       2  What but is the best way to send money from Ch...   \n",
       "\n",
       "                                           question2  \n",
       "0  Why did Microsoft choose core m3 and not core ...  \n",
       "1        How much cost does hair transplant require?  \n",
       "2                      What you send money to China?  "
      ]
     },
     "execution_count": 276,
     "metadata": {},
     "output_type": "execute_result"
    }
   ],
   "source": [
    "test_df.head(3)"
   ]
  },
  {
   "cell_type": "code",
   "execution_count": 278,
   "metadata": {
    "collapsed": true
   },
   "outputs": [],
   "source": [
    "#Creating new pandas dataframe applying preprocess_text function\n",
    "X_train_df['question1'] = X_train['question1'].apply(lambda x:preprocess_text(x))\n",
    "X_train_df['question2'] = X_train['question2'].apply(lambda x:preprocess_text(x))\n",
    "X_valid_df['question1'] = X_valid['question1'].apply(lambda x:preprocess_text(x))\n",
    "X_valid_df['question2'] = X_valid['question2'].apply(lambda x:preprocess_text(x))\n",
    "X_test_df['question1'] = test_df['question1'].apply(lambda x:preprocess_text(x))\n",
    "X_test_df['question2'] = test_df['question2'].apply(lambda x:preprocess_text(x))"
   ]
  },
  {
   "cell_type": "code",
   "execution_count": 279,
   "metadata": {
    "collapsed": false
   },
   "outputs": [
    {
     "data": {
      "text/html": [
       "<div>\n",
       "<style scoped>\n",
       "    .dataframe tbody tr th:only-of-type {\n",
       "        vertical-align: middle;\n",
       "    }\n",
       "\n",
       "    .dataframe tbody tr th {\n",
       "        vertical-align: top;\n",
       "    }\n",
       "\n",
       "    .dataframe thead th {\n",
       "        text-align: right;\n",
       "    }\n",
       "</style>\n",
       "<table border=\"1\" class=\"dataframe\">\n",
       "  <thead>\n",
       "    <tr style=\"text-align: right;\">\n",
       "      <th></th>\n",
       "      <th>question1</th>\n",
       "      <th>question2</th>\n",
       "    </tr>\n",
       "  </thead>\n",
       "  <tbody>\n",
       "    <tr>\n",
       "      <th>0</th>\n",
       "      <td>[how, is, the, working, environment, at, sbi, ...</td>\n",
       "      <td>[how, stressful, is, work, of, sbi, clerk]</td>\n",
       "    </tr>\n",
       "    <tr>\n",
       "      <th>1</th>\n",
       "      <td>[how, can, a, us, citizen, work, in, canada]</td>\n",
       "      <td>[will, a, us, graduate, degree, help, a, non, ...</td>\n",
       "    </tr>\n",
       "    <tr>\n",
       "      <th>2</th>\n",
       "      <td>[what, are, the, benefits, of, washing, your, ...</td>\n",
       "      <td>[why, is, it, important, to, wash, your, hands...</td>\n",
       "    </tr>\n",
       "  </tbody>\n",
       "</table>\n",
       "</div>"
      ],
      "text/plain": [
       "                                           question1  \\\n",
       "0  [how, is, the, working, environment, at, sbi, ...   \n",
       "1       [how, can, a, us, citizen, work, in, canada]   \n",
       "2  [what, are, the, benefits, of, washing, your, ...   \n",
       "\n",
       "                                           question2  \n",
       "0         [how, stressful, is, work, of, sbi, clerk]  \n",
       "1  [will, a, us, graduate, degree, help, a, non, ...  \n",
       "2  [why, is, it, important, to, wash, your, hands...  "
      ]
     },
     "execution_count": 279,
     "metadata": {},
     "output_type": "execute_result"
    }
   ],
   "source": [
    "X_train_df.head(3)"
   ]
  },
  {
   "cell_type": "code",
   "execution_count": 281,
   "metadata": {
    "collapsed": false
   },
   "outputs": [
    {
     "name": "stdout",
     "output_type": "stream",
     "text": [
      "Lenght of words in X_train_df question 1 3143028\n",
      "Lenght of words after adding X_train_df question 2 6358368\n",
      "Lenght of words after adding X_valid_df question 1 7705257\n",
      "Lenght of words after adding X_valid_df question 2 9080346\n",
      "Lenght of words after adding X_test_df question 1 48938305\n",
      "Lenght of words after adding X_test_df question 2 88928769\n"
     ]
    }
   ],
   "source": [
    "words_list = create_vocabulary([],X_train_df,'question1')\n",
    "print (\"Lenght of words in X_train_df question 1 {}\".format(len(words_list)))\n",
    "words_list = create_vocabulary(words_list,X_train_df,'question2')\n",
    "print (\"Lenght of words after adding X_train_df question 2 {}\".format(len(words_list)))\n",
    "words_list = create_vocabulary(words_list,X_valid_df,'question1')\n",
    "print (\"Lenght of words after adding X_valid_df question 1 {}\".format(len(words_list)))\n",
    "words_list = create_vocabulary(words_list,X_valid_df,'question2')\n",
    "print (\"Lenght of words after adding X_valid_df question 2 {}\".format(len(words_list)))\n",
    "words_list = create_vocabulary(words_list,X_test_df,'question1')\n",
    "print (\"Lenght of words after adding X_test_df question 1 {}\".format(len(words_list)))\n",
    "words_list = create_vocabulary(words_list,X_test_df,'question2')\n",
    "print (\"Lenght of words after adding X_test_df question 2 {}\".format(len(words_list)))"
   ]
  },
  {
   "cell_type": "code",
   "execution_count": 284,
   "metadata": {
    "collapsed": false
   },
   "outputs": [
    {
     "name": "stdout",
     "output_type": "stream",
     "text": [
      "Out of 10000 top frequent words 9206 words are present in word2vec after basic preprocessing of text\n",
      "Out of 10000 top frequent words 794 words are not present in word2vec after basic preprocessing of text\n"
     ]
    }
   ],
   "source": [
    "# print (len(set(words_list)))\n",
    "# print (words_list[0:10])\n",
    "words_freq = collections.Counter(words_list)\n",
    "words_freq.most_common(10)\n",
    "words_freq_10000 = words_freq.most_common(10000)\n",
    "\n",
    "\n",
    "word_in_word2vec = []\n",
    "word_notin_word2vec = []\n",
    "\n",
    "for word in words_freq.most_common(10000):\n",
    "    if word[0] in model.vocab:\n",
    "        word_in_word2vec.append(word[0])\n",
    "    else:\n",
    "        word_notin_word2vec.append(word[0])\n",
    "        \n",
    "print (\"Out of 10000 top frequent words {} words are present in word2vec after basic preprocessing of text\".format(len(word_in_word2vec)))\n",
    "print (\"Out of 10000 top frequent words {} words are not present in word2vec after basic preprocessing of text\".format(len(word_notin_word2vec)))\n"
   ]
  },
  {
   "cell_type": "markdown",
   "metadata": {},
   "source": [
    "### Based on above after data preprocessing the number of words present in word2vec increased to 9206 from 6614 "
   ]
  },
  {
   "cell_type": "code",
   "execution_count": 285,
   "metadata": {
    "collapsed": false
   },
   "outputs": [
    {
     "name": "stdout",
     "output_type": "stream",
     "text": [
      "['a', 'to', 'of', 'and', '-', 'quora', '2016', '10', 'instagram', '500', '1000', 'whatsapp', '2017', '2015', 'snapchat', '20', ':', '12', '100', '000', '15', '30', '50', 'jio', '12th', 'sbi', '16', '11', 'brexit', '!', '18', 'upsc', 'ece', '13', 'tcs', 'narendra', 'better:', '2014', '25', '17', '14', '70', 'mbbs', 'manipal', '2000', 'gmat', '40', 'iim', '24', 'btech', 'cgpa', '200', 'iiit', 'cgl', '10th', 'obc', 'redmi', 'favourite', '90', '60', 'iits', '21', 'pilani', 'aiims', 'centre', 'mightn', '80', 'flipkart', 'mustn', 'xiaomi', '19', 'travelling', 'ielts', '22', '300', 'india:', 'bba', 'colour', 'ibps', '23', 'ps4', '2013', 'mtech', 'accenture', 'x^2', 'paytm', '25000', 'elon', 'hadoop', 'kohli', 'srm', 'kejriwal', 'bitsat', 'spotify', '11th', 'grey', \"'\", '32', 'ncr', 'virat']\n"
     ]
    }
   ],
   "source": [
    "print (word_notin_word2vec[0:100]) "
   ]
  },
  {
   "cell_type": "markdown",
   "metadata": {
    "collapsed": true
   },
   "source": [
    "# LSTM Implementation"
   ]
  },
  {
   "cell_type": "code",
   "execution_count": 292,
   "metadata": {
    "collapsed": false
   },
   "outputs": [
    {
     "name": "stdout",
     "output_type": "stream",
     "text": [
      "83547\n",
      "the\n"
     ]
    }
   ],
   "source": [
    "# Creating words to index and index to words dictionary for words_list\n",
    "words_to_index = {}\n",
    "index_to_words = {}\n",
    "\n",
    "i = 0\n",
    "for word in set(words_list):\n",
    "    words_to_index[word] = i\n",
    "    i = i + 1\n",
    "    \n",
    "j=0\n",
    "for word in set(words_list):\n",
    "    index_to_words[j] = word\n",
    "    j=j+1\n",
    "\n",
    "print (words_to_index['the'])\n",
    "print (index_to_words[words_to_index['the']])\n",
    "assert words_to_index['the'] == words_to_index[index_to_words[words_to_index['the']]]"
   ]
  },
  {
   "cell_type": "markdown",
   "metadata": {},
   "source": [
    "### Saving the words_to_index and index_to_words dictionary as pickle for model implementation in other environments"
   ]
  },
  {
   "cell_type": "code",
   "execution_count": 287,
   "metadata": {
    "collapsed": false
   },
   "outputs": [],
   "source": [
    "import pickle\n",
    "with open('words_to_index_v3.pickle', 'wb') as handle:\n",
    "    pickle.dump(words_to_index, handle, protocol=pickle.HIGHEST_PROTOCOL)\n",
    "\n",
    "with open('index_to_words_v3.pickle', 'wb') as handle:\n",
    "    pickle.dump(index_to_words, handle, protocol=pickle.HIGHEST_PROTOCOL)    \n",
    "    "
   ]
  },
  {
   "cell_type": "code",
   "execution_count": 293,
   "metadata": {
    "collapsed": false
   },
   "outputs": [
    {
     "data": {
      "text/plain": [
       "[56489, 48871, 83547, 3746, 129049, 88186]"
      ]
     },
     "execution_count": 293,
     "metadata": {},
     "output_type": "execute_result"
    }
   ],
   "source": [
    "# Function to convert words to integer\n",
    "def word_2_integer(wordslist):\n",
    "    question2integer = []\n",
    "    for word in wordslist:\n",
    "        question2integer.append(words_to_index[word])\n",
    "\n",
    "    return question2integer\n",
    "\n",
    "word_2_integer(['what', 'is', 'the', 'story', 'of', 'kohinoor'])"
   ]
  },
  {
   "cell_type": "code",
   "execution_count": 294,
   "metadata": {
    "collapsed": true
   },
   "outputs": [],
   "source": [
    "# Apply word_2_integer function on the question 1 and 2 columns in dataframe\n",
    "X_train_df['question1'] = X_train_df['question1'].apply(lambda x:word_2_integer(x))\n",
    "X_train_df['question2'] = X_train_df['question2'].apply(lambda x:word_2_integer(x))\n",
    "X_valid_df['question1'] = X_valid_df['question1'].apply(lambda x:word_2_integer(x))\n",
    "X_valid_df['question2'] = X_valid_df['question2'].apply(lambda x:word_2_integer(x))\n",
    "X_test_df['question1'] = X_test_df['question1'].apply(lambda x:word_2_integer(x))\n",
    "X_test_df['question2'] = X_test_df['question2'].apply(lambda x:word_2_integer(x))"
   ]
  },
  {
   "cell_type": "code",
   "execution_count": 295,
   "metadata": {
    "collapsed": false
   },
   "outputs": [
    {
     "data": {
      "text/plain": [
       "0    [78025, 48871, 83547, 89485, 27102, 2475, 1300...\n",
       "1    [78025, 111498, 110740, 87881, 49411, 49880, 8...\n",
       "2    [56489, 127405, 83547, 88555, 129049, 124082, ...\n",
       "3    [78025, 45884, 83547, 27214, 29349, 129049, 10...\n",
       "4    [48871, 83547, 49294, 21971, 24023, 73612, 127...\n",
       "Name: question1, dtype: object"
      ]
     },
     "execution_count": 295,
     "metadata": {},
     "output_type": "execute_result"
    }
   ],
   "source": [
    "X_train_df['question1'].head(5)"
   ]
  },
  {
   "cell_type": "markdown",
   "metadata": {},
   "source": [
    "### Create Embedding matrix"
   ]
  },
  {
   "cell_type": "code",
   "execution_count": 299,
   "metadata": {
    "collapsed": false
   },
   "outputs": [],
   "source": [
    "# Create embedding vector of size 300 as word2vec vector has 300 dimensions and create random vector of \n",
    "#size len(words_to_index)+1 * 300\n",
    "\n",
    "embed_length = 300\n",
    "embed_matrix = np.random.randn(len(words_to_index)+1,embed_length)\n",
    "# To ignore padding vector of 300 zero's\n",
    "embed_matrix[0] = 0\n",
    "\n",
    "assert embed_matrix.shape == (len(words_to_index)+1,embed_length)"
   ]
  },
  {
   "cell_type": "code",
   "execution_count": 300,
   "metadata": {
    "collapsed": false
   },
   "outputs": [
    {
     "name": "stdout",
     "output_type": "stream",
     "text": [
      "(131744, 300)\n"
     ]
    }
   ],
   "source": [
    "print (embed_matrix.shape)"
   ]
  },
  {
   "cell_type": "code",
   "execution_count": 306,
   "metadata": {
    "collapsed": false
   },
   "outputs": [
    {
     "name": "stdout",
     "output_type": "stream",
     "text": [
      "Out of 131743 words 58547 index got updated from word2vec\n"
     ]
    }
   ],
   "source": [
    "#Updating embedding matrix \n",
    "count = 0\n",
    "for word, index in words_to_index.items():\n",
    "    if word in model.vocab:\n",
    "        count = count + 1\n",
    "        embed_matrix[index] = model.word_vec(word)\n",
    "\n",
    "\n",
    "print (\"Out of {} words {} index got updated from word2vec\".format(len(words_to_index),count))        \n"
   ]
  },
  {
   "cell_type": "markdown",
   "metadata": {},
   "source": [
    "### Convert output to categorical values"
   ]
  },
  {
   "cell_type": "code",
   "execution_count": 315,
   "metadata": {
    "collapsed": true
   },
   "outputs": [],
   "source": [
    "# Convert labels to their numpy representations\n",
    "Y_train =  y_train.values\n",
    "Y_valid =  y_valid.values\n"
   ]
  },
  {
   "cell_type": "code",
   "execution_count": 316,
   "metadata": {
    "collapsed": false
   },
   "outputs": [
    {
     "name": "stdout",
     "output_type": "stream",
     "text": [
      "[[0]\n",
      " [0]\n",
      " [1]\n",
      " [0]\n",
      " [0]\n",
      " [0]\n",
      " [1]\n",
      " [0]\n",
      " [1]\n",
      " [0]]\n"
     ]
    }
   ],
   "source": [
    "print (Y_train[0:10])"
   ]
  },
  {
   "cell_type": "code",
   "execution_count": 317,
   "metadata": {
    "collapsed": true
   },
   "outputs": [],
   "source": [
    "# Convert output to categorical values\n",
    "Y_train = utils.to_categorical(Y_train, num_classes=2)\n",
    "Y_valid = utils.to_categorical(Y_valid, num_classes=2)"
   ]
  },
  {
   "cell_type": "markdown",
   "metadata": {
    "collapsed": true
   },
   "source": [
    "### Preparing Input data for the Neural Network Architecture"
   ]
  },
  {
   "cell_type": "code",
   "execution_count": 318,
   "metadata": {
    "collapsed": false
   },
   "outputs": [
    {
     "name": "stdout",
     "output_type": "stream",
     "text": [
      "Maximum sequence length is 242\n"
     ]
    }
   ],
   "source": [
    "#Find the maximum sequence length from all the sentences in train and test\n",
    "max_seq_length = max([\n",
    "max(list(X_train_df['question1'].map(lambda x: len(x)))),\n",
    "max(list(X_train_df['question2'].map(lambda x: len(x)))),\n",
    "max(list(X_valid_df['question1'].map(lambda x: len(x)))),\n",
    "max(list(X_valid_df['question2'].map(lambda x: len(x)))),\n",
    "max(list(X_test_df['question1'].map(lambda x: len(x)))),\n",
    "max(list(X_test_df['question2'].map(lambda x: len(x)))),\n",
    "])\n",
    "\n",
    "print (\"Maximum sequence length is {}\".format(max_seq_length))\n",
    "assert max_seq_length > 0"
   ]
  },
  {
   "cell_type": "code",
   "execution_count": 319,
   "metadata": {
    "collapsed": false
   },
   "outputs": [
    {
     "data": {
      "text/plain": [
       "[78025, 48871, 83547, 89485, 27102, 2475, 130082, 35463, 99128]"
      ]
     },
     "execution_count": 319,
     "metadata": {},
     "output_type": "execute_result"
    }
   ],
   "source": [
    "X_train_df['question1'][0]"
   ]
  },
  {
   "cell_type": "code",
   "execution_count": 324,
   "metadata": {
    "collapsed": false
   },
   "outputs": [],
   "source": [
    "# Function to pad zero's in the left\n",
    "def pad_left_zeros(question_list,max_seq_length):\n",
    "    question_list = [0] * (max_seq_length - len(question_list)) + question_list\n",
    "    return question_list\n",
    "\n",
    "assert len (pad_left_zeros([31586, 69984, 104295, 57112, 55384, 21628, 63296, 131479, 95639],max_seq_length)) == max_seq_length"
   ]
  },
  {
   "cell_type": "code",
   "execution_count": 325,
   "metadata": {
    "collapsed": true
   },
   "outputs": [],
   "source": [
    "# Applying padding zero's to the left for all the dataframes columns\n",
    "X_train_df['question1'] = X_train_df['question1'].apply(lambda x: pad_left_zeros(x,max_seq_length))\n",
    "X_train_df['question2'] = X_train_df['question2'].apply(lambda x: pad_left_zeros(x,max_seq_length))\n",
    "X_valid_df['question1'] = X_valid_df['question1'].apply(lambda x: pad_left_zeros(x,max_seq_length))\n",
    "X_valid_df['question2'] = X_valid_df['question2'].apply(lambda x: pad_left_zeros(x,max_seq_length))\n",
    "X_test_df['question1'] = X_test_df['question1'].apply(lambda x: pad_left_zeros(x,max_seq_length))\n",
    "X_test_df['question2'] = X_test_df['question2'].apply(lambda x: pad_left_zeros(x,max_seq_length))"
   ]
  },
  {
   "cell_type": "code",
   "execution_count": 326,
   "metadata": {
    "collapsed": true
   },
   "outputs": [],
   "source": [
    "# Split to dicts so that we can send this as left and right input to LSTM Neural Network\n",
    "X_train_dict = {'left': X_train_df['question1'], 'right': X_train_df['question2']}\n",
    "X_valid_dict = {'left': X_valid_df['question1'], 'right': X_valid_df['question2']}\n",
    "X_test_dict = {'left': X_test_df['question1'], 'right': X_test_df['question2']}"
   ]
  },
  {
   "cell_type": "code",
   "execution_count": 331,
   "metadata": {
    "collapsed": false
   },
   "outputs": [],
   "source": [
    "# Reshaping the numpy array to batchsize(Number of training data),max_seq_length\n",
    "\n",
    "X_train_dict['left'] = np.concatenate(X_train_dict['left']).reshape(X_train_dict['left'].shape[0],max_seq_length)\n",
    "X_train_dict['right'] = np.concatenate(X_train_dict['right']).reshape(X_train_dict['right'].shape[0],max_seq_length)\n",
    "\n",
    "assert X_train_dict['left'].shape == (X_train_dict['left'].shape[0],max_seq_length)\n",
    "assert X_train_dict['right'].shape == (X_train_dict['right'].shape[0],max_seq_length)"
   ]
  },
  {
   "cell_type": "code",
   "execution_count": 334,
   "metadata": {
    "collapsed": false
   },
   "outputs": [
    {
     "name": "stdout",
     "output_type": "stream",
     "text": [
      "Input Training vector shape to LSTM Neural Network is (283003, 242)\n"
     ]
    }
   ],
   "source": [
    "print (\"Input Training vector shape to LSTM Neural Network is {}\".format(X_train_dict['left'].shape))"
   ]
  },
  {
   "cell_type": "code",
   "execution_count": 332,
   "metadata": {
    "collapsed": true
   },
   "outputs": [],
   "source": [
    "# Reshaping the numpy array to batchsize(Number of validation data),max_seq_length\n",
    "\n",
    "X_valid_dict['left'] = np.concatenate(X_valid_dict['left']).reshape(X_valid_dict['left'].shape[0],max_seq_length)\n",
    "X_valid_dict['right'] = np.concatenate(X_valid_dict['right']).reshape(X_valid_dict['right'].shape[0],max_seq_length)\n",
    "\n",
    "assert X_valid_dict['left'].shape == (X_valid_dict['left'].shape[0],max_seq_length)\n",
    "assert X_valid_dict['right'].shape == (X_valid_dict['right'].shape[0],max_seq_length)"
   ]
  },
  {
   "cell_type": "code",
   "execution_count": 335,
   "metadata": {
    "collapsed": false
   },
   "outputs": [
    {
     "name": "stdout",
     "output_type": "stream",
     "text": [
      "Input Validation vector shape to LSTM Neural Network is (121287, 242)\n"
     ]
    }
   ],
   "source": [
    "print (\"Input Validation vector shape to LSTM Neural Network is {}\".format(X_valid_dict['left'].shape))"
   ]
  },
  {
   "cell_type": "code",
   "execution_count": 336,
   "metadata": {
    "collapsed": true
   },
   "outputs": [],
   "source": [
    "assert X_train_dict['left'].shape == X_train_dict['right'].shape\n",
    "assert len(X_train_dict['left']) == len(Y_train)"
   ]
  },
  {
   "cell_type": "markdown",
   "metadata": {},
   "source": [
    "## Deep Learning Shared LSTM Merged Neural Network Model with one output dense layer at the end"
   ]
  },
  {
   "cell_type": "code",
   "execution_count": 378,
   "metadata": {
    "collapsed": false,
    "scrolled": true
   },
   "outputs": [],
   "source": [
    "# Implementing Keras Functional API as we are having multiple inputs to Neural Network architecture\n",
    "\n",
    "#Left and Right Input of shape None,max_seq_length\n",
    "left_input = Input(shape=(max_seq_length,), dtype='int32')\n",
    "right_input = Input(shape=(max_seq_length,), dtype='int32')\n",
    "\n",
    "# Add embedding Layer with no training\n",
    "embedding_layer = Embedding(len(embed_matrix),\n",
    "                            embed_length,\n",
    "                            weights=[embed_matrix],\n",
    "                            input_length=max_seq_length,\n",
    "                            trainable=False)\n",
    "\n",
    "#Embedded version of the inputs\n",
    "encoded_left = embedding_layer(left_input)\n",
    "encoded_right = embedding_layer(right_input)\n",
    "\n",
    "# encoded_left.shape\n",
    "\n",
    "# This layer can take as input a matrix\n",
    "# and will return a vector of size 64\n",
    "# To share a layer across different inputs, simply instantiate the layer once, then call it on as many inputs as you want\n",
    "shared_lstm = LSTM(64)\n",
    "\n",
    "#output vector\n",
    "left_output = shared_lstm(encoded_left)\n",
    "right_output = shared_lstm(encoded_right)\n",
    "\n",
    "\n",
    "# left_output.shape\n",
    "# We can then concatenate the two vectors:\n",
    "merged_vector = keras.layers.concatenate([left_output,right_output], axis=-1)\n",
    "\n",
    "#Pass the concatenate vector to dense layer for prediction\n",
    "predictions = Dense(2, activation='softmax')(merged_vector)\n",
    "\n",
    "#Creating the model\n",
    "model = Model(inputs=[left_input, right_input], outputs=predictions)\n",
    "\n",
    "#Compile the model\n",
    "model.compile(optimizer='rmsprop',\n",
    "              loss='categorical_crossentropy',\n",
    "              metrics=['accuracy'])\n"
   ]
  },
  {
   "cell_type": "markdown",
   "metadata": {},
   "source": [
    "## Model Training and Evaluation"
   ]
  },
  {
   "cell_type": "code",
   "execution_count": 379,
   "metadata": {
    "collapsed": false
   },
   "outputs": [
    {
     "name": "stdout",
     "output_type": "stream",
     "text": [
      "Train on 283003 samples, validate on 121287 samples\n",
      "Epoch 1/4\n",
      "283003/283003 [==============================] - 1466s 5ms/step - loss: 0.5558 - acc: 0.7157 - val_loss: 0.5311 - val_acc: 0.7339\n",
      "Epoch 2/4\n",
      "283003/283003 [==============================] - 1387s 5ms/step - loss: 0.5143 - acc: 0.7464 - val_loss: 0.5128 - val_acc: 0.7483\n",
      "Epoch 3/4\n",
      "283003/283003 [==============================] - 1372s 5ms/step - loss: 0.4903 - acc: 0.7616 - val_loss: 0.5067 - val_acc: 0.7522\n",
      "Epoch 4/4\n",
      "283003/283003 [==============================] - 1370s 5ms/step - loss: 0.4712 - acc: 0.7736 - val_loss: 0.5006 - val_acc: 0.7579\n"
     ]
    }
   ],
   "source": [
    "# Run the model with 4 epochs and measure the log loss and accuracy on validation data\n",
    "n_epoch = 4\n",
    "\n",
    "model_iter_1 = model.fit([X_train_dict['left'], X_train_dict['right']], Y_train, batch_size=128, epochs=n_epoch,\n",
    "         validation_data=([X_valid_dict['left'], X_valid_dict['right']], Y_valid))\n",
    "\n"
   ]
  },
  {
   "cell_type": "code",
   "execution_count": 380,
   "metadata": {
    "collapsed": false
   },
   "outputs": [
    {
     "name": "stdout",
     "output_type": "stream",
     "text": [
      "Train on 283003 samples, validate on 121287 samples\n",
      "Epoch 1/4\n",
      "283003/283003 [==============================] - 1370s 5ms/step - loss: 0.4631 - acc: 0.7778 - val_loss: 0.5005 - val_acc: 0.7578\n",
      "Epoch 2/4\n",
      "283003/283003 [==============================] - 1370s 5ms/step - loss: 0.4380 - acc: 0.7918 - val_loss: 0.4964 - val_acc: 0.7649\n",
      "Epoch 3/4\n",
      "283003/283003 [==============================] - 1368s 5ms/step - loss: 0.4230 - acc: 0.8002 - val_loss: 0.4992 - val_acc: 0.7659\n",
      "Epoch 4/4\n",
      "283003/283003 [==============================] - 1371s 5ms/step - loss: 0.4109 - acc: 0.8082 - val_loss: 0.5027 - val_acc: 0.7669\n"
     ]
    }
   ],
   "source": [
    "# Run the model with 4 epochs and measure the log loss and accuracy on validation data\n",
    "n_epoch = 4\n",
    "\n",
    "model_iter_2 = model.fit([X_train_dict['left'], X_train_dict['right']], Y_train, batch_size=128, epochs=n_epoch,\n",
    "         validation_data=([X_valid_dict['left'], X_valid_dict['right']], Y_valid))"
   ]
  },
  {
   "cell_type": "code",
   "execution_count": 381,
   "metadata": {
    "collapsed": false
   },
   "outputs": [
    {
     "name": "stdout",
     "output_type": "stream",
     "text": [
      "Train on 283003 samples, validate on 121287 samples\n",
      "Epoch 1/4\n",
      "283003/283003 [==============================] - 1369s 5ms/step - loss: 0.3971 - acc: 0.8143 - val_loss: 0.5094 - val_acc: 0.7668\n",
      "Epoch 2/4\n",
      "283003/283003 [==============================] - 1367s 5ms/step - loss: 0.3856 - acc: 0.8213 - val_loss: 0.5170 - val_acc: 0.7650\n",
      "Epoch 3/4\n",
      "283003/283003 [==============================] - 1365s 5ms/step - loss: 0.3752 - acc: 0.8269 - val_loss: 0.5236 - val_acc: 0.7660\n",
      "Epoch 4/4\n",
      "283003/283003 [==============================] - 1365s 5ms/step - loss: 0.4077 - acc: 0.8153 - val_loss: 0.5264 - val_acc: 0.7664\n"
     ]
    }
   ],
   "source": [
    "# Run the model with 4 epochs and measure the log loss and accuracy on validation data\n",
    "n_epoch = 4\n",
    "\n",
    "model_iter_3 = model.fit([X_train_dict['left'], X_train_dict['right']], Y_train, batch_size=128, epochs=n_epoch,\n",
    "         validation_data=([X_valid_dict['left'], X_valid_dict['right']], Y_valid))"
   ]
  },
  {
   "cell_type": "code",
   "execution_count": 382,
   "metadata": {
    "collapsed": false
   },
   "outputs": [],
   "source": [
    "# Capturing the acc and val_acc for differente epochs as a list so that we can plot the graph\n",
    "model_iter_acc = model_iter_1.history['acc'] + model_iter_2.history['acc'] + model_iter_3.history['acc']\n",
    "model_iter_val_acc = model_iter_1.history['val_acc'] + model_iter_2.history['val_acc'] + model_iter_3.history['val_acc']"
   ]
  },
  {
   "cell_type": "code",
   "execution_count": 383,
   "metadata": {
    "collapsed": true
   },
   "outputs": [],
   "source": [
    "# Capturing the loss and val_loss for differente epochs as a list so that we can plot the graph\n",
    "model_iter_loss = model_iter_1.history['loss'] + model_iter_2.history['loss'] + model_iter_3.history['loss']\n",
    "model_iter_val_loss = model_iter_1.history['val_loss'] + model_iter_2.history['val_loss'] + model_iter_3.history['val_loss']"
   ]
  },
  {
   "cell_type": "code",
   "execution_count": 430,
   "metadata": {
    "collapsed": false
   },
   "outputs": [
    {
     "data": {
      "image/png": "[encoded data removed]",
      "text/plain": [
       "<Figure size 432x288 with 1 Axes>"
      ]
     },
     "metadata": {},
     "output_type": "display_data"
    },
    {
     "data": {
      "image/png": "[encoded data removed]",
      "text/plain": [
       "<Figure size 432x288 with 1 Axes>"
      ]
     },
     "metadata": {},
     "output_type": "display_data"
    }
   ],
   "source": [
    "# Plot accuracy\n",
    "plt.plot(model_iter_acc)\n",
    "plt.plot(model_iter_val_acc)\n",
    "plt.title('Model Accuracy - Shared LSTM With One Dense Output Layer')\n",
    "plt.ylabel('Accuracy')\n",
    "plt.xlabel('Epoch')\n",
    "plt.legend(['Train', 'Validation'], loc='upper left')\n",
    "plt.show()\n",
    "\n",
    "# Plot loss\n",
    "plt.plot(model_iter_loss)\n",
    "plt.plot(model_iter_val_loss)\n",
    "plt.title('Model Loss - Shared LSTM With One Dense Output Layer')\n",
    "plt.ylabel('Loss')\n",
    "plt.xlabel('Epoch')\n",
    "plt.legend(['Train', 'Validation'], loc='upper right')\n",
    "plt.show()"
   ]
  },
  {
   "cell_type": "markdown",
   "metadata": {},
   "source": [
    "# Save the model"
   ]
  },
  {
   "cell_type": "code",
   "execution_count": null,
   "metadata": {
    "collapsed": true
   },
   "outputs": [],
   "source": [
    "# save the model\n",
    "# Epochs 12\n",
    "model.save(\"../quora_keras_model_v3.hdf5\")"
   ]
  },
  {
   "cell_type": "code",
   "execution_count": 392,
   "metadata": {
    "collapsed": false
   },
   "outputs": [],
   "source": [
    "# Function that takes input question pair, preprocess_text function and words_to_index dictionary and outputs \n",
    "#input vector to be passed on to neural network\n",
    "def preprocess_model_input(input_questions,preprocess_text,words_to_index):\n",
    "\n",
    "    final_new_words_list = []\n",
    "\n",
    "    # i = 0\n",
    "    for words_list in input_questions:\n",
    "        new_words_list = []\n",
    "      \n",
    "        for word in preprocess_text(words_list):\n",
    "\n",
    "            if words_to_index.get(word):\n",
    "                new_words_list.append(words_to_index.get(word))\n",
    "             \n",
    "        final_new_words_list.append(np.array(pad_left_zeros(new_words_list,max_seq_length)))\n",
    "        \n",
    "         \n",
    "    return [final_new_words_list[0].reshape(1,max_seq_length), final_new_words_list[1].reshape(1,max_seq_length)]\n",
    "\n",
    "\n",
    "input_questions = [\"How can I be a good geologist?\", \"What should I do to be a great geologist?\"]\n",
    "assert preprocess_model_input(input_questions,preprocess_text,words_to_index)[0].shape == (1,max_seq_length)\n",
    "assert preprocess_model_input(input_questions,preprocess_text,words_to_index)[1].shape == (1,max_seq_length)"
   ]
  },
  {
   "cell_type": "code",
   "execution_count": 398,
   "metadata": {
    "collapsed": false
   },
   "outputs": [
    {
     "name": "stdout",
     "output_type": "stream",
     "text": [
      "The probabilities predicted by model for the question pair \n",
      " ['How can I be a good geologist?', 'What should I do to be a great geologist?'] for classes [0,1] are \n",
      " [[0.11011977 0.88988024]]\n",
      "The class that model predicted for the question pair \n",
      " ['How can I be a good geologist?', 'What should I do to be a great geologist?'] is [1]\n"
     ]
    }
   ],
   "source": [
    "## Function that takes saved model, input_questions pair, preprocess_model_input function, preprocess_text function \n",
    "## and words_to_index dictionary and outputs the predicted probability for classes\n",
    "\n",
    "def model_prediction(model,input_questions,preprocess_model_input,preprocess_text,words_to_index):\n",
    "    y_prob = model.predict(preprocess_model_input(input_questions,preprocess_text,words_to_index),batch_size=1, verbose=0, steps=None)\n",
    "\n",
    "    print (\"The probabilities predicted by model for the question pair \\n {} for classes [0,1] are \\n {}\".format(input_questions,y_prob))\n",
    "    y_classes = y_prob.argmax(axis=-1)\n",
    "    print (\"The class that model predicted for the question pair \\n {} is {}\".format(input_questions,y_classes))\n",
    "    return y_classes\n",
    "\n",
    "# using duplicate example\n",
    "input_questions = [\"How can I be a good geologist?\", \"What should I do to be a great geologist?\"]\n",
    "assert model_prediction(model,input_questions,preprocess_model_input,preprocess_text,words_to_index).shape == (1,)"
   ]
  },
  {
   "cell_type": "code",
   "execution_count": 399,
   "metadata": {
    "collapsed": false
   },
   "outputs": [
    {
     "name": "stdout",
     "output_type": "stream",
     "text": [
      "The probabilities predicted by model for the question pair \n",
      " ['Which one dissolve in water quikly sugar, salt, methane and carbon di oxide?', 'Which fish would survive in salt water?'] for classes [0,1] are \n",
      " [[0.99610424 0.00389581]]\n",
      "The class that model predicted for the question pair \n",
      " ['Which one dissolve in water quikly sugar, salt, methane and carbon di oxide?', 'Which fish would survive in salt water?'] is [0]\n"
     ]
    },
    {
     "data": {
      "text/plain": [
       "array([0])"
      ]
     },
     "execution_count": 399,
     "metadata": {},
     "output_type": "execute_result"
    }
   ],
   "source": [
    "#Using one non duplicate example\n",
    "input_questions = [\"Which one dissolve in water quikly sugar, salt, methane and carbon di oxide?\", \"Which fish would survive in salt water?\"]\n",
    "model_prediction(model,input_questions,preprocess_model_input,preprocess_text,words_to_index)\n"
   ]
  },
  {
   "cell_type": "markdown",
   "metadata": {},
   "source": [
    "## Using the Saved Model for Future Model Use in Production or Other Environments"
   ]
  },
  {
   "cell_type": "code",
   "execution_count": null,
   "metadata": {
    "collapsed": true
   },
   "outputs": [],
   "source": [
    "# Open saved model and words_to_index dictionary for predictions"
   ]
  },
  {
   "cell_type": "code",
   "execution_count": 401,
   "metadata": {
    "collapsed": true
   },
   "outputs": [],
   "source": [
    "#Load the saved Keras model\n",
    "predict_model = load_model(\"../quora_keras_model_v3.hdf5\")"
   ]
  },
  {
   "cell_type": "code",
   "execution_count": 402,
   "metadata": {
    "collapsed": true
   },
   "outputs": [],
   "source": [
    "#Load the words_to_index dictionary\n",
    "with open('words_to_index_v3.pickle', 'rb') as handle:\n",
    "    words_to_index_1 = pickle.load(handle)"
   ]
  },
  {
   "cell_type": "code",
   "execution_count": 403,
   "metadata": {
    "collapsed": true
   },
   "outputs": [],
   "source": [
    "#Load the index_to_words dictionary\n",
    "with open('index_to_words_v3.pickle', 'rb') as handle:\n",
    "    index_to_words_1 = pickle.load(handle)"
   ]
  },
  {
   "cell_type": "code",
   "execution_count": 426,
   "metadata": {
    "collapsed": false
   },
   "outputs": [
    {
     "name": "stdout",
     "output_type": "stream",
     "text": [
      "The probabilities predicted by model for the question pair \n",
      " ['Which one dissolve in water quikly sugar, salt, methane and carbon di oxide?', 'Which fish would survive in salt water?'] for classes [0,1] are \n",
      " [[0.99610424 0.00389581]]\n",
      "The class that model predicted for the question pair \n",
      " ['Which one dissolve in water quikly sugar, salt, methane and carbon di oxide?', 'Which fish would survive in salt water?'] is [0]\n"
     ]
    },
    {
     "data": {
      "text/plain": [
       "array([0])"
      ]
     },
     "execution_count": 426,
     "metadata": {},
     "output_type": "execute_result"
    }
   ],
   "source": [
    "#Using one non duplicate example\n",
    "input_questions = [\"Which one dissolve in water quikly sugar, salt, methane and carbon di oxide?\", \"Which fish would survive in salt water?\"]\n",
    "model_prediction(predict_model,input_questions,preprocess_model_input,preprocess_text,words_to_index_1)\n",
    "\n"
   ]
  },
  {
   "cell_type": "code",
   "execution_count": 427,
   "metadata": {
    "collapsed": false
   },
   "outputs": [
    {
     "name": "stdout",
     "output_type": "stream",
     "text": [
      "The probabilities predicted by model for the question pair \n",
      " ['How can I be a good geologist?', 'What should I do to be a great geologist?'] for classes [0,1] are \n",
      " [[0.11011977 0.88988024]]\n",
      "The class that model predicted for the question pair \n",
      " ['How can I be a good geologist?', 'What should I do to be a great geologist?'] is [1]\n"
     ]
    },
    {
     "data": {
      "text/plain": [
       "array([1])"
      ]
     },
     "execution_count": 427,
     "metadata": {},
     "output_type": "execute_result"
    }
   ],
   "source": [
    "#Using one duplicate example\n",
    "input_questions = [\"How can I be a good geologist?\", \"What should I do to be a great geologist?\"]\n",
    "model_prediction(predict_model,input_questions,preprocess_model_input,preprocess_text,words_to_index_1)"
   ]
  },
  {
   "cell_type": "markdown",
   "metadata": {
    "collapsed": false
   },
   "source": [
    "## Increasing model layers to see if increase layers increase model performance\n",
    "## Deep Learning Shared LSTM Merged Neural Network Model with more dense layers"
   ]
  },
  {
   "cell_type": "code",
   "execution_count": 411,
   "metadata": {
    "collapsed": true
   },
   "outputs": [],
   "source": [
    "# Implementing Keras Functional API as we are having multiple inputs to Neural Network architecture\n",
    "\n",
    "#Left and Right Input of shape None,max_seq_length\n",
    "left_input = Input(shape=(max_seq_length,), dtype='int32')\n",
    "right_input = Input(shape=(max_seq_length,), dtype='int32')\n",
    "\n",
    "# Add embedding Layer with no training\n",
    "embedding_layer = Embedding(len(embed_matrix),\n",
    "                            embed_length,\n",
    "                            weights=[embed_matrix],\n",
    "                            input_length=max_seq_length,\n",
    "                            trainable=False)\n",
    "\n",
    "#Embedded version of the inputs\n",
    "encoded_left = embedding_layer(left_input)\n",
    "encoded_right = embedding_layer(right_input)\n",
    "\n",
    "# encoded_left.shape\n",
    "\n",
    "# This layer can take as input a matrix\n",
    "# and will return a vector of size 64\n",
    "shared_lstm = LSTM(64)\n",
    "\n",
    "#output vector\n",
    "left_output = shared_lstm(encoded_left)\n",
    "right_output = shared_lstm(encoded_right)\n",
    "\n",
    "\n",
    "# left_output.shape\n",
    "# We can then concatenate the two vectors:\n",
    "merged_vector = keras.layers.concatenate([left_output,right_output], axis=-1)\n",
    "\n",
    "# Adding more dense layers \n",
    "merged_vector = Dense(64, activation='relu')(merged_vector)\n",
    "merged_vector = Dense(64, activation='relu')(merged_vector)\n",
    "merged_vector = Dense(64, activation='relu')(merged_vector)\n",
    "\n",
    "#Pass the concatenate vector to dense layer for prediction\n",
    "predictions = Dense(2, activation='softmax')(merged_vector)\n",
    "\n",
    "#Creating the model\n",
    "model_dense = Model(inputs=[left_input, right_input], outputs=predictions)\n",
    "\n",
    "#Compile the model\n",
    "model_dense.compile(optimizer='rmsprop',\n",
    "              loss='categorical_crossentropy',\n",
    "              metrics=['accuracy'])\n",
    "\n"
   ]
  },
  {
   "cell_type": "markdown",
   "metadata": {},
   "source": [
    "## Model Training and Evaluation"
   ]
  },
  {
   "cell_type": "code",
   "execution_count": 412,
   "metadata": {
    "collapsed": false
   },
   "outputs": [
    {
     "name": "stdout",
     "output_type": "stream",
     "text": [
      "Train on 283003 samples, validate on 121287 samples\n",
      "Epoch 1/4\n",
      "283003/283003 [==============================] - 1502s 5ms/step - loss: 0.5128 - acc: 0.7399 - val_loss: 0.4647 - val_acc: 0.7750\n",
      "Epoch 2/4\n",
      "283003/283003 [==============================] - 1418s 5ms/step - loss: 0.4347 - acc: 0.7917 - val_loss: 0.4310 - val_acc: 0.7956\n",
      "Epoch 3/4\n",
      "283003/283003 [==============================] - 1385s 5ms/step - loss: 0.3948 - acc: 0.8163 - val_loss: 0.4207 - val_acc: 0.8035\n",
      "Epoch 4/4\n",
      "283003/283003 [==============================] - 1388s 5ms/step - loss: 0.3669 - acc: 0.8314 - val_loss: 0.4129 - val_acc: 0.8061\n"
     ]
    }
   ],
   "source": [
    "# Run the model with 4 epochs and measure the log loss and accuracy on validation data\n",
    "n_epoch = 4\n",
    "\n",
    "model_dense_iter_1 = model_dense.fit([X_train_dict['left'], X_train_dict['right']], Y_train, batch_size=128, epochs=n_epoch,\n",
    "         validation_data=([X_valid_dict['left'], X_valid_dict['right']], Y_valid))\n",
    "\n",
    "\n"
   ]
  },
  {
   "cell_type": "code",
   "execution_count": 413,
   "metadata": {
    "collapsed": false
   },
   "outputs": [
    {
     "name": "stdout",
     "output_type": "stream",
     "text": [
      "Train on 283003 samples, validate on 121287 samples\n",
      "Epoch 1/4\n",
      "283003/283003 [==============================] - 1371s 5ms/step - loss: 0.3437 - acc: 0.8440 - val_loss: 0.4166 - val_acc: 0.8132\n",
      "Epoch 2/4\n",
      "283003/283003 [==============================] - 1372s 5ms/step - loss: 0.3248 - acc: 0.8535 - val_loss: 0.4151 - val_acc: 0.8164\n",
      "Epoch 3/4\n",
      "283003/283003 [==============================] - 1368s 5ms/step - loss: 0.3080 - acc: 0.8628 - val_loss: 0.4130 - val_acc: 0.8136\n",
      "Epoch 4/4\n",
      "283003/283003 [==============================] - 1370s 5ms/step - loss: 0.2928 - acc: 0.8706 - val_loss: 0.4293 - val_acc: 0.8189\n"
     ]
    }
   ],
   "source": [
    "# Run the model with 4 epochs and measure the log loss and accuracy on validation data\n",
    "n_epoch = 4\n",
    "\n",
    "model_dense_iter_2 = model_dense.fit([X_train_dict['left'], X_train_dict['right']], Y_train, batch_size=128, epochs=n_epoch,\n",
    "         validation_data=([X_valid_dict['left'], X_valid_dict['right']], Y_valid))"
   ]
  },
  {
   "cell_type": "code",
   "execution_count": 414,
   "metadata": {
    "collapsed": false
   },
   "outputs": [
    {
     "name": "stdout",
     "output_type": "stream",
     "text": [
      "Train on 283003 samples, validate on 121287 samples\n",
      "Epoch 1/4\n",
      "283003/283003 [==============================] - 1371s 5ms/step - loss: 0.2793 - acc: 0.8772 - val_loss: 0.4275 - val_acc: 0.8191\n",
      "Epoch 2/4\n",
      "283003/283003 [==============================] - 1369s 5ms/step - loss: 0.2664 - acc: 0.8838 - val_loss: 0.4298 - val_acc: 0.8217\n",
      "Epoch 3/4\n",
      "283003/283003 [==============================] - 1385s 5ms/step - loss: 0.2544 - acc: 0.8901 - val_loss: 0.4325 - val_acc: 0.8207\n",
      "Epoch 4/4\n",
      "283003/283003 [==============================] - 1406s 5ms/step - loss: 0.2431 - acc: 0.8953 - val_loss: 0.4598 - val_acc: 0.8199\n"
     ]
    }
   ],
   "source": [
    "# Run the model with 4 epochs and measure the log loss and accuracy on validation data\n",
    "n_epoch = 4\n",
    "\n",
    "model_dense_iter_3 = model_dense.fit([X_train_dict['left'], X_train_dict['right']], Y_train, batch_size=128, epochs=n_epoch,\n",
    "         validation_data=([X_valid_dict['left'], X_valid_dict['right']], Y_valid))"
   ]
  },
  {
   "cell_type": "code",
   "execution_count": 415,
   "metadata": {
    "collapsed": false
   },
   "outputs": [
    {
     "name": "stdout",
     "output_type": "stream",
     "text": [
      "Train on 283003 samples, validate on 121287 samples\n",
      "Epoch 1/4\n",
      "283003/283003 [==============================] - 1564s 6ms/step - loss: 0.2336 - acc: 0.9003 - val_loss: 0.4602 - val_acc: 0.8222\n",
      "Epoch 2/4\n",
      "283003/283003 [==============================] - 1636s 6ms/step - loss: 0.2246 - acc: 0.9052 - val_loss: 0.4950 - val_acc: 0.8231\n",
      "Epoch 3/4\n",
      "283003/283003 [==============================] - 1371s 5ms/step - loss: 0.2157 - acc: 0.9090 - val_loss: 0.5328 - val_acc: 0.8222\n",
      "Epoch 4/4\n",
      "283003/283003 [==============================] - 1367s 5ms/step - loss: 0.2073 - acc: 0.9129 - val_loss: 0.5049 - val_acc: 0.8182\n"
     ]
    }
   ],
   "source": [
    "# Run the model with 4 epochs and measure the log loss and accuracy on validation data\n",
    "n_epoch = 4\n",
    "\n",
    "model_dense_iter_4 = model_dense.fit([X_train_dict['left'], X_train_dict['right']], Y_train, batch_size=128, epochs=n_epoch,\n",
    "         validation_data=([X_valid_dict['left'], X_valid_dict['right']], Y_valid))"
   ]
  },
  {
   "cell_type": "code",
   "execution_count": 416,
   "metadata": {
    "collapsed": true
   },
   "outputs": [],
   "source": [
    "# Capturing the acc and val_acc for differente epochs as a list so that we can plot the graph\n",
    "model_dense_iter_acc = model_dense_iter_1.history['acc'] + model_dense_iter_2.history['acc'] + model_dense_iter_3.history['acc'] + model_dense_iter_4.history['acc']\n",
    "model_dense_iter_val_acc = model_dense_iter_1.history['val_acc'] + model_dense_iter_2.history['val_acc'] + model_dense_iter_3.history['val_acc'] + model_dense_iter_4.history['val_acc']"
   ]
  },
  {
   "cell_type": "code",
   "execution_count": 417,
   "metadata": {
    "collapsed": true
   },
   "outputs": [],
   "source": [
    "# Capturing the loss and val_loss for differente epochs as a list so that we can plot the graph\n",
    "model_dense_iter_loss = model_dense_iter_1.history['loss'] + model_dense_iter_2.history['loss'] + model_dense_iter_3.history['loss'] + model_dense_iter_4.history['loss']\n",
    "model_dense_iter_val_loss = model_dense_iter_1.history['val_loss'] + model_dense_iter_2.history['val_loss'] + model_dense_iter_3.history['val_loss'] + model_dense_iter_4.history['val_loss']"
   ]
  },
  {
   "cell_type": "code",
   "execution_count": 418,
   "metadata": {
    "collapsed": false
   },
   "outputs": [
    {
     "data": {
      "image/png": "[encoded data removed]",
      "text/plain": [
       "<Figure size 432x288 with 1 Axes>"
      ]
     },
     "metadata": {},
     "output_type": "display_data"
    },
    {
     "data": {
      "image/png": "[encoded data removed]",
      "text/plain": [
       "<Figure size 432x288 with 1 Axes>"
      ]
     },
     "metadata": {},
     "output_type": "display_data"
    }
   ],
   "source": [
    "# Plot accuracy\n",
    "plt.plot(model_dense_iter_acc)\n",
    "plt.plot(model_dense_iter_val_acc)\n",
    "plt.title('Model Accuracy - Shared LSTM With More Dense Layers')\n",
    "plt.ylabel('Accuracy')\n",
    "plt.xlabel('Epoch')\n",
    "plt.legend(['Train', 'Validation'], loc='upper left')\n",
    "plt.show()\n",
    "\n",
    "# Plot loss\n",
    "plt.plot(model_dense_iter_loss)\n",
    "plt.plot(model_dense_iter_val_loss)\n",
    "plt.title('Model Loss - Shared LSTM With More Dense Layers')\n",
    "plt.ylabel('Loss')\n",
    "plt.xlabel('Epoch')\n",
    "plt.legend(['Train', 'Validation'], loc='upper right')\n",
    "plt.show()"
   ]
  },
  {
   "cell_type": "code",
   "execution_count": 419,
   "metadata": {
    "collapsed": false
   },
   "outputs": [
    {
     "name": "stdout",
     "output_type": "stream",
     "text": [
      "The probabilities predicted by model for the question pair \n",
      " ['Which one dissolve in water quikly sugar, salt, methane and carbon di oxide?', 'Which fish would survive in salt water?'] for classes [0,1] are \n",
      " [[9.996377e-01 3.622632e-04]]\n",
      "The class that model predicted for the question pair \n",
      " ['Which one dissolve in water quikly sugar, salt, methane and carbon di oxide?', 'Which fish would survive in salt water?'] is [0]\n"
     ]
    },
    {
     "data": {
      "text/plain": [
       "array([0])"
      ]
     },
     "execution_count": 419,
     "metadata": {},
     "output_type": "execute_result"
    }
   ],
   "source": [
    "#Using one non duplicate example\n",
    "input_questions = [\"Which one dissolve in water quikly sugar, salt, methane and carbon di oxide?\", \"Which fish would survive in salt water?\"]\n",
    "model_prediction(model_dense,input_questions,preprocess_model_input,preprocess_text,words_to_index)"
   ]
  },
  {
   "cell_type": "code",
   "execution_count": 420,
   "metadata": {
    "collapsed": false
   },
   "outputs": [
    {
     "name": "stdout",
     "output_type": "stream",
     "text": [
      "The probabilities predicted by model for the question pair \n",
      " ['How can I be a good geologist?', 'What should I do to be a great geologist?'] for classes [0,1] are \n",
      " [[0.16992822 0.83007175]]\n",
      "The class that model predicted for the question pair \n",
      " ['How can I be a good geologist?', 'What should I do to be a great geologist?'] is [1]\n"
     ]
    },
    {
     "data": {
      "text/plain": [
       "array([1])"
      ]
     },
     "execution_count": 420,
     "metadata": {},
     "output_type": "execute_result"
    }
   ],
   "source": [
    "#Using one duplicate example\n",
    "input_questions = [\"How can I be a good geologist?\", \"What should I do to be a great geologist?\"]\n",
    "model_prediction(model_dense,input_questions,preprocess_model_input,preprocess_text,words_to_index)"
   ]
  },
  {
   "cell_type": "markdown",
   "metadata": {},
   "source": [
    "### Save the Model With More Dense Layers"
   ]
  },
  {
   "cell_type": "code",
   "execution_count": 422,
   "metadata": {
    "collapsed": true
   },
   "outputs": [],
   "source": [
    "# save the model with name model_dense\n",
    "# Epochs 16\n",
    "model_dense.save(\"../quora_keras_model_dense_v3.hdf5\")"
   ]
  },
  {
   "cell_type": "markdown",
   "metadata": {},
   "source": [
    "### Using the Saved Model for Future Model Use in Production or Other Environments"
   ]
  },
  {
   "cell_type": "code",
   "execution_count": 423,
   "metadata": {
    "collapsed": true
   },
   "outputs": [],
   "source": [
    "#Load the saved Keras model\n",
    "predict_model_dense = load_model(\"../quora_keras_model_dense_v3.hdf5\")"
   ]
  },
  {
   "cell_type": "code",
   "execution_count": 424,
   "metadata": {
    "collapsed": true
   },
   "outputs": [],
   "source": [
    "#Load the words_to_index dictionary\n",
    "with open('words_to_index_v3.pickle', 'rb') as handle:\n",
    "    words_to_index_dense = pickle.load(handle)"
   ]
  },
  {
   "cell_type": "code",
   "execution_count": 425,
   "metadata": {
    "collapsed": false
   },
   "outputs": [
    {
     "name": "stdout",
     "output_type": "stream",
     "text": [
      "The probabilities predicted by model for the question pair \n",
      " ['Which one dissolve in water quikly sugar, salt, methane and carbon di oxide?', 'Which fish would survive in salt water?'] for classes [0,1] are \n",
      " [[9.996377e-01 3.622632e-04]]\n",
      "The class that model predicted for the question pair \n",
      " ['Which one dissolve in water quikly sugar, salt, methane and carbon di oxide?', 'Which fish would survive in salt water?'] is [0]\n"
     ]
    },
    {
     "data": {
      "text/plain": [
       "array([0])"
      ]
     },
     "execution_count": 425,
     "metadata": {},
     "output_type": "execute_result"
    }
   ],
   "source": [
    "#Using one non duplicate example\n",
    "input_questions = [\"Which one dissolve in water quikly sugar, salt, methane and carbon di oxide?\", \"Which fish would survive in salt water?\"]\n",
    "model_prediction(predict_model_dense,input_questions,preprocess_model_input,preprocess_text,words_to_index_dense)"
   ]
  },
  {
   "cell_type": "code",
   "execution_count": 428,
   "metadata": {
    "collapsed": false
   },
   "outputs": [
    {
     "name": "stdout",
     "output_type": "stream",
     "text": [
      "The probabilities predicted by model for the question pair \n",
      " ['How can I be a good geologist?', 'What should I do to be a great geologist?'] for classes [0,1] are \n",
      " [[0.16992822 0.83007175]]\n",
      "The class that model predicted for the question pair \n",
      " ['How can I be a good geologist?', 'What should I do to be a great geologist?'] is [1]\n"
     ]
    },
    {
     "data": {
      "text/plain": [
       "array([1])"
      ]
     },
     "execution_count": 428,
     "metadata": {},
     "output_type": "execute_result"
    }
   ],
   "source": [
    "#Using one duplicate example\n",
    "input_questions = [\"How can I be a good geologist?\", \"What should I do to be a great geologist?\"]\n",
    "model_prediction(predict_model_dense,input_questions,preprocess_model_input,preprocess_text,words_to_index_dense)"
   ]
  },
  {
   "cell_type": "markdown",
   "metadata": {},
   "source": [
    "# Conclusion:"
   ]
  },
  {
   "cell_type": "markdown",
   "metadata": {},
   "source": [
    "### As shown from the above results we were able to increase the model performance by reducing the validation log loss from baseline 12.03 to. 0.5049 using Shared LSTM and further tuning on Shared LSTM merged model with more dense layers. As seen in the last few epochs of shared LSTM model with more dense layers the model is overfitting to the training data as training log loss is decreasing whereas validation log loss is increasing. Neural networks don’t have bias-variance trade off problem compared to other supervised learning problems. \n",
    "\n",
    "### Because of this reason as part of next steps, we can run few more epochs on shared LSTM model with more dense layers to see if it overfits the training data and then try to solve the high variance problem. Below are different options for next steps on further tuning this algorithm.\n",
    "\n",
    "### Fixing high bias:\n",
    "\n",
    "### If the training loss doesn't decrease after training few more epochs on shared LSTM model with more dense layers we can use the below options.\n",
    "### 1)Train a bigger neural network by adding more layers.\n",
    "### 2) Increase the number of neurons. \n",
    "### 3) See if any neural network architecture is used by academia or companies to solve similar kind of problem and try that architecture.\n",
    "### 4) Check the failures manually where the model is not able to predict accurately on training data and see if we can find any patterns and also check if training embedding layer on Quora data might be helpful.\n",
    "\n",
    "### Fixing high variance:\n",
    "\n",
    "### Once the training loss decreases or model has low bias then we need to solve the high variance problem on validation set by using below options\n",
    "### 1) Regularization\n",
    "### 2) More Training data if possible\n",
    "### 3) See if any neural network architecture is used by academia or companies to solve similar kind of problem and try that architecture.\n",
    "### 4) Check the failures manually where the model is not able to predict accurately on validation data and see if we can find any patterns and also check if training embedding layer on Quora data might be helpful.\n",
    "\n"
   ]
  },
  {
   "cell_type": "code",
   "execution_count": null,
   "metadata": {
    "collapsed": true
   },
   "outputs": [],
   "source": []
  }
 ],
 "metadata": {
  "anaconda-cloud": {},
  "kernelspec": {
   "display_name": "quoravenv",
   "language": "python",
   "name": "quoravenv"
  },
  "language_info": {
   "codemirror_mode": {
    "name": "ipython",
    "version": 3
   },
   "file_extension": ".py",
   "mimetype": "text/x-python",
   "name": "python",
   "nbconvert_exporter": "python",
   "pygments_lexer": "ipython3",
   "version": "3.6.1"
  }
 },
 "nbformat": 4,
 "nbformat_minor": 2
}
